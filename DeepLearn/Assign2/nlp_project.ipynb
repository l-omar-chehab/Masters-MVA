{
 "cells": [
  {
   "cell_type": "markdown",
   "metadata": {
    "colab_type": "text",
    "id": "4IvFRO5forfP"
   },
   "source": [
    "# Deep Learning for NLP - Project"
   ]
  },
  {
   "cell_type": "markdown",
   "metadata": {
    "colab_type": "text",
    "id": "-QHHghycorfS"
   },
   "source": [
    "RULES:\n",
    "\n",
    "* Do not create any additional cell\n",
    "\n",
    "* Fill in the blanks\n",
    "\n",
    "* All cells should be runnable (modulo trivial compatibility bugs that we'd fix)\n",
    "\n",
    "* 4 / 20 points will be allocated to the clarity of your code\n",
    "\n",
    "* Efficient code will have a bonus\n",
    "\n",
    "DELIVERABLE:\n",
    "\n",
    "* this notebook\n",
    "* the predictions of the SST test set\n",
    "\n",
    "DO NOT INCLUDE THE DATASETS IN THE DELIVERABLE.."
   ]
  },
  {
   "cell_type": "code",
   "execution_count": 60,
   "metadata": {
    "colab": {},
    "colab_type": "code",
    "id": "9EWjMVBporfT"
   },
   "outputs": [],
   "source": [
    "import io\n",
    "import os\n",
    "import numpy as np\n",
    "import scipy"
   ]
  },
  {
   "cell_type": "code",
   "execution_count": 61,
   "metadata": {
    "colab": {},
    "colab_type": "code",
    "id": "NYGGn3RaorfZ"
   },
   "outputs": [],
   "source": [
    "PATH_TO_DATA = \"./data/\""
   ]
  },
  {
   "cell_type": "markdown",
   "metadata": {
    "colab_type": "text",
    "id": "R32S_uqoorfb"
   },
   "source": [
    "# 1) Monolingual (English) word embeddings "
   ]
  },
  {
   "cell_type": "code",
   "execution_count": 62,
   "metadata": {
    "colab": {},
    "colab_type": "code",
    "id": "JloZLp55orfd"
   },
   "outputs": [],
   "source": [
    "class Word2vec():\n",
    "    \n",
    "    def __init__(self, fname, nmax=100000):\n",
    "        self.load_wordvec(fname, nmax)\n",
    "        self.word2id = dict.fromkeys(self.word2vec.keys())\n",
    "        self.id2word = {v: k for k, v in self.word2id.items()}\n",
    "        self.embeddings = np.array(self.word2vec.values())\n",
    "    \n",
    "    def load_wordvec(self, fname, nmax):\n",
    "        self.word2vec = {}\n",
    "        with io.open(fname, encoding='utf-8') as f:\n",
    "            next(f)\n",
    "            for i, line in enumerate(f):\n",
    "                word, vec = line.split(' ', 1)\n",
    "                self.word2vec[word] = np.fromstring(vec, sep=' ')\n",
    "                if i == (nmax - 1):\n",
    "                    break\n",
    "        print('Loaded %s pretrained word vectors' % (len(self.word2vec)))\n",
    "\n",
    "    def most_similar(self, w, K=5):\n",
    "        # K most similar words: self.score  -  np.argsort \n",
    "        if (w not in self.word2vec):\n",
    "            print('input word is not in word2vec loaded vocab')\n",
    "            return []\n",
    "        else:\n",
    "            similarity_scores = [self.score(w, w_dict) for w_dict in self.word2vec]\n",
    "            idx_matches = np.argsort(similarity_scores)[::-1][:K]\n",
    "            matches = (np.array(list(self.word2vec.keys()))[idx_matches]).tolist()\n",
    "        return matches\n",
    "    \n",
    "\n",
    "    def score(self, w1, w2):\n",
    "        # cosine similarity: np.dot  -  np.linalg.norm\n",
    "        if (w1 not in self.word2vec) or (w2 not in self.word2vec):\n",
    "            return 0\n",
    "        else:\n",
    "            emb1 = self.word2vec[w1]\n",
    "            emb2 = self.word2vec[w2]\n",
    "            similarity = np.dot(emb1, emb2) / (np.linalg.norm(emb1) * np.linalg.norm(emb2))\n",
    "        return similarity\n",
    "\n"
   ]
  },
  {
   "cell_type": "code",
   "execution_count": 63,
   "metadata": {
    "colab": {},
    "colab_type": "code",
    "id": "iSPUvuTMorfh",
    "outputId": "fd6dcf57-398a-4963-8785-1d2927a48ee8"
   },
   "outputs": [
    {
     "name": "stdout",
     "output_type": "stream",
     "text": [
      "Loaded 25000 pretrained word vectors\n",
      "cat dog 0.671683666279249\n",
      "dog pet 0.6842064029669219\n",
      "dogs cats 0.7074389328052403\n",
      "paris france 0\n",
      "germany berlin 0\n",
      "['cat', 'cats', 'kitty', 'kitten', 'Cat']\n",
      "['dog', 'dogs', 'puppy', 'Dog', 'canine']\n",
      "['dogs', 'dog', 'Dogs', 'puppies', 'cats']\n",
      "input word is not in word2vec loaded vocab\n",
      "[]\n",
      "input word is not in word2vec loaded vocab\n",
      "[]\n"
     ]
    }
   ],
   "source": [
    "w2v = Word2vec(os.path.join(PATH_TO_DATA, 'crawl-300d-200k.vec'), nmax=25000)\n",
    "\n",
    "# You will be evaluated on the output of the following:\n",
    "for w1, w2 in zip(('cat', 'dog', 'dogs', 'paris', 'germany'), ('dog', 'pet', 'cats', 'france', 'berlin')):\n",
    "    print(w1, w2, w2v.score(w1, w2))\n",
    "for w1 in ['cat', 'dog', 'dogs', 'paris', 'germany']:\n",
    "    print(w2v.most_similar(w1))"
   ]
  },
  {
   "cell_type": "code",
   "execution_count": 64,
   "metadata": {
    "colab": {},
    "colab_type": "code",
    "id": "vtS10pfborfn"
   },
   "outputs": [],
   "source": [
    "class BoV():\n",
    "    def __init__(self, w2v):\n",
    "        self.w2v = w2v\n",
    "    \n",
    "    def encode(self, sentences, idf=False):\n",
    "        # takes a list of sentences, outputs a numpy array of sentence embeddings\n",
    "        # see TP1 for help\n",
    "        sentemb = []\n",
    "        idf_dic = idf\n",
    "        for sent in sentences:\n",
    "            if idf is False:\n",
    "                # mean of word vectors\n",
    "                list_embeddings = [self.w2v.word2vec[w] for w in sent if w in w2v.word2vec]\n",
    "                if len(list_embeddings)==0: #if any word in the sentence is in our lookup table\n",
    "                    sentemb.append(np.zeros(list(self.w2v.word2vec.values())[0].shape))\n",
    "                else:\n",
    "                    sentemb.append(np.mean(list_embeddings, axis=0))\n",
    "            else:\n",
    "                # idf-weighted mean of word vectors\n",
    "                list_embeddings = [idf_dic[w]*self.w2v.word2vec[w] for w in sent if w in w2v.word2vec]\n",
    "                if len(list_embeddings)==0: #if any word in the sentence is in our lookup table\n",
    "                    sentemb.append(np.zeros(list(self.w2v.word2vec.values())[0].shape))\n",
    "                else:\n",
    "                    sentemb.append(np.mean(list_embeddings, axis=0))\n",
    "        return np.vstack(sentemb)\n",
    "    \n",
    "\n",
    "    def most_similar(self, s, sentences, idf=False, K=5):\n",
    "        # get most similar sentences and **print** them\n",
    "        #keys = self.encode(sentences, idf)\n",
    "        #query = self.encode([s], idf)\n",
    "        scores = [self.score(s, sent, idf) for sent in sentences]\n",
    "        idx_matches = np.argsort(scores)[::-1][:K]\n",
    "        matches = []\n",
    "        print('Top %s NNs of' %K, ' '.join(s))\n",
    "        if len(scores)==0:\n",
    "            print('not recognized')\n",
    "        if max(scores)==0:\n",
    "            print('input contains words unknown to our vocab')\n",
    "        else:\n",
    "            for idx_print, idx_match in enumerate(idx_matches):\n",
    "                curr_match = sentences[idx_match]\n",
    "                print(str(idx_print + 1) + '/ ' + ' '.join(curr_match))\n",
    "                matches.append(curr_match)\n",
    "        return matches\n",
    "    \n",
    "\n",
    "    def score(self, s1, s2, idf=False):\n",
    "        emb2 = self.encode([s2], idf)\n",
    "        emb1 = self.encode([s1], idf)\n",
    "        # edge case: 0-vector embedding\n",
    "        if np.linalg.norm(emb1)==0 or np.linalg.norm(emb2)==0:\n",
    "            return 0\n",
    "        else:\n",
    "            similarity = np.dot(emb1, emb2.T) / (np.linalg.norm(emb1) * np.linalg.norm(emb2))\n",
    "        return similarity\n",
    "    \n",
    "    def build_idf(self, sentences):\n",
    "        # build the idf dictionary: associate each word to its idf value\n",
    "        idf = {}\n",
    "        for sent in sentences:\n",
    "            for w in set(sent):\n",
    "                idf[w] = idf.get(w, 0) + 1        \n",
    "        for w in idf:\n",
    "            idf[w] = max(1, np.log10(len(sentences) / (idf[w])))\n",
    "        return idf"
   ]
  },
  {
   "cell_type": "code",
   "execution_count": 65,
   "metadata": {
    "colab": {},
    "colab_type": "code",
    "id": "qemBLNUZorfq",
    "outputId": "678c5f6b-26c5-4037-b64a-701e9b103e65"
   },
   "outputs": [
    {
     "name": "stdout",
     "output_type": "stream",
     "text": [
      "Loaded 5000 pretrained word vectors\n",
      "Top 5 NNs of 1 smiling african american boy .\n",
      "1/ 1 smiling african american boy .\n",
      "2/ blond boy waterskiing .\n",
      "3/ a boy jumps .\n",
      "4/ a boy jumps .\n",
      "5/ a boy smiles underwater .\n",
      "[[0.60894451]]\n",
      "Top 5 NNs of 1 smiling african american boy .\n",
      "1/ 1 smiling african american boy .\n",
      "2/ 5 women and 1 man are smiling for the camera .\n",
      "3/ a man rides a 4 wheeler in the desert .\n",
      "4/ 3 males and 1 woman enjoying a sporting event\n",
      "5/ a man in black is juggling 3 flamed bottles .\n",
      "[[0.59633357]]\n"
     ]
    }
   ],
   "source": [
    "w2v = Word2vec(os.path.join(PATH_TO_DATA, 'crawl-300d-200k.vec'), nmax=5000)\n",
    "s2v = BoV(w2v)\n",
    "\n",
    "# Load sentences in \"PATH_TO_DATA/sentences.txt\"\n",
    "\n",
    "with open(os.path.join(PATH_TO_DATA,'sentences.txt')) as f:\n",
    "    sentences = f.readlines()\n",
    "\n",
    "sentences = [sent.split() for sent in sentences]\n",
    "# Build idf scores for each word\n",
    "idf = {} if False else s2v.build_idf(sentences)\n",
    "\n",
    "# You will be evaluated on the output of the following:\n",
    "s2v.most_similar('' if not sentences else sentences[10], sentences)  # BoV-mean\n",
    "print(s2v.score('' if not sentences else sentences[7], '' if not sentences else sentences[13]))\n",
    "\n",
    "s2v.most_similar('' if not sentences else sentences[10], sentences, idf)  # BoV-idf\n",
    "print(s2v.score('' if not sentences else sentences[7], '' if not sentences else sentences[13], idf))"
   ]
  },
  {
   "cell_type": "markdown",
   "metadata": {
    "colab_type": "text",
    "id": "W1Ms-ZQ0orft"
   },
   "source": [
    "# 2) Multilingual (English-French) word embeddings"
   ]
  },
  {
   "cell_type": "markdown",
   "metadata": {
    "colab_type": "text",
    "id": "n0hEOVs5orfu"
   },
   "source": [
    "Let's consider a bilingual dictionary of size V_a (e.g French-English).\n",
    "\n",
    "Let's define **X** and **Y** the **French** and **English** matrices.\n",
    "\n",
    "They contain the embeddings associated to the words in the bilingual dictionary.\n",
    "\n",
    "We want to find a **mapping W** that will project the source word space (e.g French) to the target word space (e.g English).\n",
    "\n",
    "Procrustes : **W\\* = argmin || W.X - Y ||  s.t  W^T.W = Id**\n",
    "has a closed form solution:\n",
    "**W = U.V^T  where  U.Sig.V^T = SVD(Y.X^T)**\n",
    "\n",
    "In what follows, you are asked to: "
   ]
  },
  {
   "cell_type": "code",
   "execution_count": 66,
   "metadata": {
    "colab": {},
    "colab_type": "code",
    "id": "ubVccWNHorfv"
   },
   "outputs": [
    {
     "name": "stdout",
     "output_type": "stream",
     "text": [
      "Loaded 50000 pretrained word vectors\n",
      "Loaded 50000 pretrained word vectors\n"
     ]
    }
   ],
   "source": [
    "# 1 - Download and load 50k first vectors of\n",
    "#     https://s3-us-west-1.amazonaws.com/fasttext-vectors/wiki.en.vec\n",
    "#     https://s3-us-west-1.amazonaws.com/fasttext-vectors/wiki.fr.vec\n",
    "\n",
    "w2v_eng = Word2vec(os.path.join(PATH_TO_DATA, 'wiki.en.vec'), nmax=50000)\n",
    "w2v_fr = Word2vec(os.path.join(PATH_TO_DATA, 'wiki.fr.vec'), nmax=50000)"
   ]
  },
  {
   "cell_type": "code",
   "execution_count": 67,
   "metadata": {
    "colab": {},
    "colab_type": "code",
    "id": "JG9coxU5orfy"
   },
   "outputs": [],
   "source": [
    "# 2 - Get words that appear in both vocabs (= identical character strings)\n",
    "#     Use it to create the matrix X and Y (of aligned embeddings for these words)\n",
    "\n",
    "words_in_both_vocab = [w for w in w2v_eng.word2vec if w in w2v_fr.word2vec]\n",
    "X = np.array([w2v_eng.word2vec[word] for word in words_in_both_vocab])\n",
    "Y = np.array([w2v_fr.word2vec[word] for word in words_in_both_vocab])"
   ]
  },
  {
   "cell_type": "code",
   "execution_count": 68,
   "metadata": {
    "colab": {},
    "colab_type": "code",
    "id": "LHTkiakYorf2"
   },
   "outputs": [],
   "source": [
    "# 3 - Solve the Procrustes using the scipy package and: scipy.linalg.svd() and get the optimal W\n",
    "#     Now W*French_vector is in the same space as English_vector\n",
    "\n",
    "X = X[:200]\n",
    "Y = Y[:200]\n",
    "U, s, Vh = np.linalg.svd(Y.dot(X.T))\n",
    "W = U.dot(Vh)"
   ]
  },
  {
   "cell_type": "code",
   "execution_count": 69,
   "metadata": {
    "colab": {},
    "colab_type": "code",
    "id": "Ibbeonqforf4"
   },
   "outputs": [
    {
     "data": {
      "image/png": "[encoded data removed]",
      "text/plain": [
       "<Figure size 640x480 with 1 Axes>"
      ]
     },
     "metadata": {
      "needs_background": "light"
     },
     "output_type": "display_data"
    },
    {
     "data": {
      "image/png": "[encoded data removed]",
      "text/plain": [
       "<Figure size 640x480 with 1 Axes>"
      ]
     },
     "metadata": {
      "needs_background": "light"
     },
     "output_type": "display_data"
    }
   ],
   "source": [
    "# 4 - After alignment with W, give examples of English nearest neighbors of some French words (and vice versa)\n",
    "#     You will be evaluated on that part and the code above\n",
    "\n",
    "# TYPE CODE HERE\n",
    "import scipy.linalg as la\n",
    "from sklearn.decomposition import PCA\n",
    "import matplotlib.pyplot as plt\n",
    "\n",
    "%matplotlib inline  \n",
    "\n",
    "\n",
    "class BilingWord2Vec:\n",
    "    \n",
    "    '''Class aligning two vocabularies and translating between them'''\n",
    "    \n",
    "    def __init__(self, w2v_1, w2v_2):\n",
    "        self.w2v_lang_1 = w2v_1\n",
    "        self.w2v_lang_2 = w2v_2\n",
    "        \n",
    "    def align(self, max_size):\n",
    "        \n",
    "        '''Procrustes alignment between languages'''\n",
    "\n",
    "        words_in_both_vocab = [w for w in self.w2v_lang_1.word2vec if w in self.w2v_lang_2.word2vec][: max_size]\n",
    "        \n",
    "        # Solving Procrustes alignment\n",
    "        X = np.vstack([self.w2v_lang_1.word2vec[w] for w in words_in_both_vocab]).T\n",
    "        Y = np.vstack([self.w2v_lang_2.word2vec[w] for w in words_in_both_vocab]).T\n",
    "        U, s, Vh = la.svd(Y.dot(X.T))\n",
    "        \n",
    "        return U.dot(Vh)\n",
    "    \n",
    "    def nearest_matches(self, word, W_alignement, K=5, lang_input = 1, lang_output=2):\n",
    "        \n",
    "        '''Solves the nearest neighbors problem across languages'''\n",
    "\n",
    "        # defining input and output languages for the translation\n",
    "        if lang_input == 1: \n",
    "            word2vec_1 = self.w2v_lang_1.word2vec\n",
    "        else:\n",
    "            word2vec_1 = self.w2v_lang_2.word2vec\n",
    "            \n",
    "        if lang_output == 1:  \n",
    "            word2vec_2 = self.w2v_lang_1.word2vec\n",
    "        else:\n",
    "            word2vec_2 = self.w2v_lang_2.word2vec\n",
    "        \n",
    "        # define a candidate translation: project input word on output space\n",
    "        query = W_alignement.dot(word2vec_1[word]) if word in word2vec_1 else 0 \n",
    "        \n",
    "        # apply classical K Nearest Neigbors\n",
    "        keys = word2vec_2.values()\n",
    "        scores = [self.score(query,key) for key in keys]\n",
    "        index_matches = (np.argsort(scores)[::-1][: K])\n",
    "        matches = np.array(list(word2vec_2.keys()))[index_matches]\n",
    "        \n",
    "        return matches\n",
    "    \n",
    "\n",
    "    def score(self, emb1, emb2):\n",
    "        \n",
    "        # cosine similarity\n",
    "        if ((np.linalg.norm(emb1)!=0) and ((np.linalg.norm(emb2)!=0))):\n",
    "            return emb1.dot(emb2.T)/(np.linalg.norm(emb1)*np.linalg.norm(emb2))\n",
    "        else:\n",
    "            return 0\n",
    "        \n",
    "    def plot_nearest_matches(self, word, W_alignement, pca, K=5, lang_input = 1, lang_output=2):\n",
    "        \n",
    "        '''Plots the nearest matches problem defined in a function above'''\n",
    "\n",
    "        # defining input and output languages for the translation\n",
    "        if lang_input == 1:  \n",
    "            word2vec_1 = self.w2v_lang_1.word2vec\n",
    "        else:\n",
    "            word2vec_1 = self.w2v_lang_2.word2vec\n",
    "        \n",
    "        if lang_output == 1:  \n",
    "            word2vec_2 = self.w2v_lang_1.word2vec\n",
    "        else:\n",
    "            word2vec_2 = self.w2v_lang_2.word2vec\n",
    "            \n",
    "        # initializing storage to collect input word and nearest matches positions in the ouput space \n",
    "        word_embedding_dim = list(word2vec_2.values())[0].shape[0]\n",
    "        outputs = np.empty((0, word_embedding_dim), dtype='f')\n",
    "        \n",
    "        # labels: input word and matches\n",
    "        word_labels = []\n",
    "        \n",
    "        word_labels.append(word)\n",
    "        \n",
    "        word_matches = self.nearest_matches(word, W_alignement, K, lang_input, lang_output)\n",
    "        word_labels += word_matches.tolist()\n",
    "        \n",
    "        # output positions: input word and matches\n",
    "        \n",
    "            # input word\n",
    "        word_position = W_alignement.dot(word2vec_1[word]) if word in word2vec_1 else np.zeros(word_embedding_dim)\n",
    "        outputs = np.append(outputs, np.array([word_position]), axis=0)\n",
    "        \n",
    "            # reverse-engineer vector-form of word-matches\n",
    "        for word_match in word_matches:\n",
    "            vector_match = word2vec_2[word_match]\n",
    "            outputs = np.append(outputs, np.array([vector_match]), axis=0)\n",
    "\n",
    "        # PCA to 2D\n",
    "        np.set_printoptions(suppress=True)\n",
    "        outputs_reduced = pca.transform(outputs)\n",
    "\n",
    "        x = outputs_reduced[:, 0]\n",
    "        y = outputs_reduced[:, 1]\n",
    "        \n",
    "        # plot\n",
    "        plt.figure(figsize=(8, 6), dpi=80)\n",
    "        plt.scatter(x, y)\n",
    "\n",
    "        for label, x_coor, y_coor in zip(word_labels, x, y):\n",
    "            plt.annotate(label, xy=(x_coor, y_coor), xytext=(0, 0), textcoords='offset points', fontsize=12)\n",
    "        plt.xlim(x.min()-0.2, x.max()+0.2)\n",
    "        plt.ylim(y.min()-0.2, y.max()+0.2)\n",
    "        plt.title('Nearest Neighbors for \"%s\"' % word)\n",
    "        \n",
    "        plt.show()\n",
    "\n",
    "# instantiate class\n",
    "max_size = 18000\n",
    "biw2vec = BilingWord2Vec(w2v_eng,w2v_fr)\n",
    "\n",
    "# activate alignment\n",
    "W = biw2vec.align(max_size) \n",
    "\n",
    "# define PCA mapping\n",
    "pca = PCA(n_components=2)\n",
    "pca.fit(np.array(list(biw2vec.w2v_lang_2.word2vec.values())))\n",
    "\n",
    "# plot\n",
    "biw2vec.plot_nearest_matches('funny', W, pca, K=10) \n",
    "biw2vec.plot_nearest_matches('table', W.T, pca, K=10, lang_input=2, lang_output=1) \n"
   ]
  },
  {
   "cell_type": "markdown",
   "metadata": {
    "colab_type": "text",
    "id": "kHw0xaM2orf5"
   },
   "source": [
    "If you want to dive deeper on this subject: https://github.com/facebookresearch/MUSE"
   ]
  },
  {
   "cell_type": "markdown",
   "metadata": {
    "colab_type": "text",
    "id": "01yrcha7orf5"
   },
   "source": [
    "# 3) Sentence classification with BoV and scikit-learn"
   ]
  },
  {
   "cell_type": "code",
   "execution_count": 70,
   "metadata": {
    "colab": {},
    "colab_type": "code",
    "id": "e_VAWdYHorf6"
   },
   "outputs": [],
   "source": [
    "# 1 - Load train/dev/test of Stanford Sentiment TreeBank (SST)\n",
    "#     (https://nlp.stanford.edu/~socherr/EMNLP2013_RNTN.pdf)\n",
    "\n",
    "def read_training(file_path):\n",
    "    \n",
    "    '''Reads SST file: train'''\n",
    "    \n",
    "    with open(file_path,'r') as f:\n",
    "        lines = f.readlines()\n",
    "    y_train= [int(line[0]) for line in lines] \n",
    "    x_train= [line[2:].split() for line in lines]\n",
    "    return x_train, y_train\n",
    "\n",
    "def read_test(file_path):\n",
    "\n",
    "    '''Reads SST file: test'''\n",
    "\n",
    "    with open(file_path,'r') as f:\n",
    "        lines = f.readlines()\n",
    "    x_test = [line.split() for line in lines]\n",
    "    return x_test\n",
    "\n",
    "x_train,y_train = read_training(os.path.join(PATH_TO_DATA,'SST','stsa.fine.train'))\n",
    "x_dev,y_dev = read_training(os.path.join(PATH_TO_DATA,'SST','stsa.fine.dev'))\n",
    "x_test = read_test(os.path.join(PATH_TO_DATA,'SST','stsa.fine.test.X'))"
   ]
  },
  {
   "cell_type": "code",
   "execution_count": 71,
   "metadata": {
    "colab": {},
    "colab_type": "code",
    "id": "Vp8abF7norf7"
   },
   "outputs": [
    {
     "name": "stdout",
     "output_type": "stream",
     "text": [
      "Loaded 50000 pretrained word vectors\n"
     ]
    }
   ],
   "source": [
    "# 2 - Encode sentences with the BoV model above\n",
    "\n",
    "w2v = Word2vec(os.path.join(PATH_TO_DATA, 'wiki.en.vec'), nmax=50000)\n",
    "s2v = BoV(w2v)\n",
    "\n",
    "idf = {} if False else s2v.build_idf(x_train + x_dev + x_test)\n",
    "\n",
    "x_train_encode = s2v.encode(x_train)\n",
    "x_dev_encode = s2v.encode(x_dev)\n",
    "x_test_encode = s2v.encode(x_test)\n",
    "\n",
    "x_train_encode_idf = s2v.encode(x_train,idf)\n",
    "x_dev_encode_idf = s2v.encode(x_dev,idf)"
   ]
  },
  {
   "cell_type": "code",
   "execution_count": 72,
   "metadata": {
    "colab": {},
    "colab_type": "code",
    "id": "d9P1G3eRorf9"
   },
   "outputs": [
    {
     "name": "stderr",
     "output_type": "stream",
     "text": [
      "/Users/omar/anaconda3/lib/python3.6/site-packages/sklearn/linear_model/logistic.py:433: FutureWarning: Default solver will be changed to 'lbfgs' in 0.22. Specify a solver to silence this warning.\n",
      "  FutureWarning)\n",
      "/Users/omar/anaconda3/lib/python3.6/site-packages/sklearn/linear_model/logistic.py:460: FutureWarning: Default multi_class will be changed to 'auto' in 0.22. Specify the multi_class option to silence this warning.\n",
      "  \"this warning.\", FutureWarning)\n",
      "/Users/omar/anaconda3/lib/python3.6/site-packages/sklearn/linear_model/logistic.py:433: FutureWarning: Default solver will be changed to 'lbfgs' in 0.22. Specify a solver to silence this warning.\n",
      "  FutureWarning)\n",
      "/Users/omar/anaconda3/lib/python3.6/site-packages/sklearn/linear_model/logistic.py:460: FutureWarning: Default multi_class will be changed to 'auto' in 0.22. Specify the multi_class option to silence this warning.\n",
      "  \"this warning.\", FutureWarning)\n"
     ]
    },
    {
     "name": "stdout",
     "output_type": "stream",
     "text": [
      "Train Accuracy 0.4554073033707865\n",
      "Dev Accuracy 0.4069028156221617\n",
      "Train Accuracy (idf-weighted) 0.4618445692883895\n",
      "Dev Accuracy (idf-weighted)  0.3860127157129882\n"
     ]
    }
   ],
   "source": [
    "# 3 - Learn Logistic Regression on top of sentence embeddings using scikit-learn\n",
    "#     (consider tuning the L2 regularization on the dev set)\n",
    "\n",
    "from sklearn.linear_model import LogisticRegression as LogReg\n",
    "from sklearn.metrics import accuracy_score as acc_score\n",
    "\n",
    "lr = LogReg(C = 0.7, max_iter=1000, tol=1e-10)\n",
    "lr.fit(x_train_encode, y_train)\n",
    "prediction_dev = lr.predict(x_dev_encode)\n",
    "prediction_train = lr.predict(x_train_encode)\n",
    "\n",
    "lr_idf = LogReg(C = 0.5,max_iter=1000,tol=1e-10)\n",
    "lr_idf.fit(x_train_encode_idf, y_train)\n",
    "prediction_dev_idf = lr_idf.predict(x_dev_encode_idf)\n",
    "prediction_train_idf = lr_idf.predict(x_train_encode_idf)\n",
    "\n",
    "\n",
    "print('Train Accuracy', acc_score(y_train, prediction_train))\n",
    "print('Dev Accuracy', acc_score(y_dev, prediction_dev))\n",
    "\n",
    "print('Train Accuracy (idf-weighted)', acc_score(y_train, prediction_train_idf))\n",
    "print('Dev Accuracy (idf-weighted) ', acc_score(y_dev, prediction_dev_idf))"
   ]
  },
  {
   "cell_type": "code",
   "execution_count": 73,
   "metadata": {
    "colab": {},
    "colab_type": "code",
    "id": "drGaJvw8orf-"
   },
   "outputs": [],
   "source": [
    "# 4 - Produce 2210 predictions for the test set (in the same order). One line = one prediction (=0,1,2,3,4).\n",
    "#     Attach the output file \"logreg_bov_y_test_sst.txt\" to your deliverable.\n",
    "#     You will be evaluated on the results of the test set.\n",
    "\n",
    "def save_submission(path_output,prediction):\n",
    "    lines = '\\n'.join([str(p) for p in prediction])\n",
    "    with open(path_output,'w') as f:\n",
    "        f.writelines(lines)\n",
    "\n",
    "prediction_test = lr.predict(x_test_encode)\n",
    "save_submission(os.path.join('.',r'logreg_bov_y_test_sst.txt'), prediction_test)"
   ]
  },
  {
   "cell_type": "code",
   "execution_count": 74,
   "metadata": {
    "colab": {},
    "colab_type": "code",
    "id": "Ql9Ws_9ForgB"
   },
   "outputs": [
    {
     "name": "stdout",
     "output_type": "stream",
     "text": [
      "Random Forest Precision sur le train set 0.9985955056179775\n",
      "Random Forest Precision sur le dev set 0.3723887375113533\n",
      "Random Forest Precision sur le train set idf 0.9985955056179775\n",
      "Random Forest Precision sur le dev set idf 0.35967302452316074\n"
     ]
    }
   ],
   "source": [
    "# BONUS!\n",
    "# 5 - Try to improve performance with another classifier\n",
    "#     Attach the output file \"XXX_bov_y_test_sst.txt\" to your deliverable (where XXX = the name of the classifier)\n",
    "\n",
    "# TYPE CODE HERE\n",
    "from sklearn.ensemble import RandomForestClassifier as RF\n",
    "\n",
    "model = RF(n_estimators=100)\n",
    "model.fit(x_train_encode,y_train)\n",
    "prediction_dev_rf = model.predict(x_dev_encode)\n",
    "prediction_train_rf = model.predict(x_train_encode)\n",
    "\n",
    "\n",
    "model = RF(n_estimators=100)\n",
    "model.fit(x_train_encode_idf, y_train) \n",
    "prediction_dev_rf_idf = model.predict(x_dev_encode_idf)\n",
    "prediction_train_rf_idf = model.predict(x_train_encode_idf)\n",
    "\n",
    "\n",
    "print('Random Forest Precision sur le train set', acc_score(y_train,prediction_train_rf))\n",
    "print('Random Forest Precision sur le dev set', acc_score(y_dev,prediction_dev_rf))\n",
    "\n",
    "print('Random Forest Precision sur le train set idf', acc_score(y_train,prediction_train_rf_idf))\n",
    "print('Random Forest Precision sur le dev set idf', acc_score(y_dev,prediction_dev_rf_idf))\n",
    "\n",
    "# a Random Forest, with its in-built feature selection (ex: through entropy criterion)\n",
    "# and its powerful non-linear capacity to fit data by dividing a space in hypercubes, \n",
    "# is performing no better than the Logistic Regression on the test set "
   ]
  },
  {
   "cell_type": "markdown",
   "metadata": {
    "colab_type": "text",
    "id": "OUnOxlv2orgE"
   },
   "source": [
    "# 4) Sentence classification with LSTMs in Keras"
   ]
  },
  {
   "cell_type": "markdown",
   "metadata": {
    "colab_type": "text",
    "id": "LEQfFg_MorgE"
   },
   "source": [
    "## 4.1 - Preprocessing"
   ]
  },
  {
   "cell_type": "code",
   "execution_count": 75,
   "metadata": {
    "colab": {},
    "colab_type": "code",
    "id": "7zBs1tvIorgF",
    "outputId": "e4f2e6df-33a2-4a53-c5e5-0accf4c6a359"
   },
   "outputs": [],
   "source": [
    "import keras"
   ]
  },
  {
   "cell_type": "code",
   "execution_count": 76,
   "metadata": {
    "colab": {},
    "colab_type": "code",
    "id": "AyYpqAC7orgI"
   },
   "outputs": [],
   "source": [
    "# 1 - Load train/dev/test sets of SST\n",
    "PATH_TO_DATA = \"./data/\"\n",
    "\n",
    "x_train, y_train = read_training(os.path.join(PATH_TO_DATA,'SST','stsa.fine.train'))\n",
    "x_dev, y_dev = read_training(os.path.join(PATH_TO_DATA,'SST','stsa.fine.dev'))\n",
    "x_test = read_test(os.path.join(PATH_TO_DATA,'SST','stsa.fine.test.X'))"
   ]
  },
  {
   "cell_type": "code",
   "execution_count": 77,
   "metadata": {
    "colab": {},
    "colab_type": "code",
    "id": "9dGC2CEIorgK"
   },
   "outputs": [
    {
     "name": "stdout",
     "output_type": "stream",
     "text": [
      "(8544, 5)\n"
     ]
    }
   ],
   "source": [
    "# 2 - Transform text to integers using keras.preprocessing.text.one_hot function\n",
    "#     https://keras.io/preprocessing/text/\n",
    "\n",
    "# TYPE CODE HERE\n",
    "from keras.preprocessing import text\n",
    "from keras.utils import to_categorical\n",
    "\n",
    "words = set([word for sentence in (x_train + x_dev + x_test) for word in sentence ])\n",
    "n_words = len(words)\n",
    "\n",
    "\n",
    "x_train = [text.one_hot(' '.join(x), n_words) for x in x_train]\n",
    "x_dev = [text.one_hot(' '.join(x), n_words) for x in x_dev]\n",
    "x_test = [text.one_hot(' '.join(x), n_words) for x in x_test]\n",
    "\n",
    "\n",
    "y_train = to_categorical(y_train)\n",
    "y_val = to_categorical(y_dev)\n",
    "\n",
    "print(y_train.shape)"
   ]
  },
  {
   "cell_type": "markdown",
   "metadata": {
    "colab_type": "text",
    "id": "vMmpnJxaorgL"
   },
   "source": [
    "**Padding input data**\n",
    "\n",
    "Models in Keras (and elsewhere) take batches of sentences of the same length as input. It is because Deep Learning framework have been designed to handle well Tensors, which are particularly suited for fast computation on the GPU.\n",
    "\n",
    "Since sentences have different sizes, we \"pad\" them. That is, we add dummy \"padding\" tokens so that they all have the same length.\n",
    "\n",
    "The input to a Keras model thus has this size : (batchsize, maxseqlen) where maxseqlen is the maximum length of a sentence in the batch."
   ]
  },
  {
   "cell_type": "code",
   "execution_count": 78,
   "metadata": {
    "colab": {},
    "colab_type": "code",
    "id": "lFa4v1UporgM"
   },
   "outputs": [],
   "source": [
    "# 3 - Pad your sequences using keras.preprocessing.sequence.pad_sequences\n",
    "#     https://keras.io/preprocessing/sequence/\n",
    "\n",
    "# TYPE CODE HERE\n",
    "from keras.preprocessing.sequence import pad_sequences\n",
    "\n",
    "x_train = pad_sequences(x_train, maxlen=30)\n",
    "x_val = pad_sequences(x_dev, maxlen=30)\n",
    "x_test = pad_sequences(x_test, maxlen=30)"
   ]
  },
  {
   "cell_type": "markdown",
   "metadata": {
    "colab_type": "text",
    "id": "3spa--sYorgO"
   },
   "source": [
    "## 4.2 - Design and train your model"
   ]
  },
  {
   "cell_type": "code",
   "execution_count": 79,
   "metadata": {
    "colab": {},
    "colab_type": "code",
    "id": "0TB6V_pjorgP"
   },
   "outputs": [
    {
     "name": "stderr",
     "output_type": "stream",
     "text": [
      "/Users/omar/anaconda3/lib/python3.6/site-packages/ipykernel_launcher.py:18: UserWarning: Update your `LSTM` call to the Keras 2 API: `LSTM(100, return_sequences=False, dropout=0.2, recurrent_dropout=0.2)`\n"
     ]
    }
   ],
   "source": [
    "# 4 - Design your encoder + classifier using keras.layers\n",
    "#     In Keras, Torch and other deep learning framework, we create a \"container\" which is the Sequential() module.\n",
    "#     Then we add components to this contained : the lookuptable, the LSTM, the classifier etc.\n",
    "#     All of these components are contained in the Sequential() and are trained together.\n",
    "\n",
    "\n",
    "# ADAPT CODE BELOW\n",
    "from keras.models import Sequential\n",
    "from keras.layers import Embedding, LSTM, Dense, Activation\n",
    "\n",
    "embed_dim  = 300  \n",
    "n_hidden = 100  \n",
    "vocab_size = n_words  \n",
    "n_classes  = 5\n",
    "\n",
    "model = Sequential()\n",
    "model.add(Embedding(vocab_size, embed_dim))\n",
    "model.add(LSTM(n_hidden, dropout_W=0.2, dropout_U=0.2,return_sequences=False))\n",
    "model.add(Dense(n_classes, activation='softmax'))"
   ]
  },
  {
   "cell_type": "code",
   "execution_count": 80,
   "metadata": {
    "colab": {},
    "colab_type": "code",
    "id": "ONW645RdorgQ"
   },
   "outputs": [
    {
     "name": "stdout",
     "output_type": "stream",
     "text": [
      "_________________________________________________________________\n",
      "Layer (type)                 Output Shape              Param #   \n",
      "=================================================================\n",
      "embedding_3 (Embedding)      (None, None, 300)         5860800   \n",
      "_________________________________________________________________\n",
      "lstm_3 (LSTM)                (None, 100)               160400    \n",
      "_________________________________________________________________\n",
      "dense_3 (Dense)              (None, 5)                 505       \n",
      "=================================================================\n",
      "Total params: 6,021,705\n",
      "Trainable params: 6,021,705\n",
      "Non-trainable params: 0\n",
      "_________________________________________________________________\n",
      "None\n"
     ]
    }
   ],
   "source": [
    "# 5 - Define your loss/optimizer/metrics\n",
    "\n",
    "# MODIFY CODE BELOW\n",
    "loss_classif     =  'categorical_crossentropy' \n",
    "optimizer        =  'rmsprop' \n",
    "metrics_classif  =  ['accuracy']\n",
    "\n",
    "model.compile(loss=loss_classif,\n",
    "              optimizer=optimizer,\n",
    "              metrics=metrics_classif)\n",
    "print(model.summary())"
   ]
  },
  {
   "cell_type": "code",
   "execution_count": 81,
   "metadata": {
    "colab": {},
    "colab_type": "code",
    "id": "LKF0778CorgR"
   },
   "outputs": [
    {
     "name": "stderr",
     "output_type": "stream",
     "text": [
      "/Users/omar/anaconda3/lib/python3.6/site-packages/ipykernel_launcher.py:14: UserWarning: The `nb_epoch` argument in `fit` has been renamed `epochs`.\n",
      "  \n"
     ]
    },
    {
     "name": "stdout",
     "output_type": "stream",
     "text": [
      "Train on 8544 samples, validate on 1101 samples\n",
      "Epoch 1/6\n",
      "8544/8544 [==============================] - 14s 2ms/step - loss: 1.5341 - acc: 0.3150 - val_loss: 1.4478 - val_acc: 0.3797\n",
      "Epoch 2/6\n",
      "8544/8544 [==============================] - 13s 2ms/step - loss: 1.2761 - acc: 0.4618 - val_loss: 1.4042 - val_acc: 0.3733\n",
      "Epoch 3/6\n",
      "8544/8544 [==============================] - 13s 1ms/step - loss: 1.0529 - acc: 0.5742 - val_loss: 1.4285 - val_acc: 0.4042\n",
      "Epoch 4/6\n",
      "8544/8544 [==============================] - 13s 2ms/step - loss: 0.8692 - acc: 0.6664 - val_loss: 1.6283 - val_acc: 0.3724\n",
      "Epoch 5/6\n",
      "8544/8544 [==============================] - 12s 1ms/step - loss: 0.7136 - acc: 0.7375 - val_loss: 1.7941 - val_acc: 0.3742\n",
      "Epoch 6/6\n",
      "8544/8544 [==============================] - 13s 1ms/step - loss: 0.5834 - acc: 0.7864 - val_loss: 1.9239 - val_acc: 0.3824\n",
      "dict_keys(['val_loss', 'val_acc', 'loss', 'acc'])\n"
     ]
    },
    {
     "data": {
      "image/png": "[encoded data removed]",
      "text/plain": [
       "<Figure size 432x288 with 1 Axes>"
      ]
     },
     "metadata": {
      "needs_background": "light"
     },
     "output_type": "display_data"
    },
    {
     "data": {
      "image/png": "[encoded data removed]",
      "text/plain": [
       "<Figure size 432x288 with 1 Axes>"
      ]
     },
     "metadata": {
      "needs_background": "light"
     },
     "output_type": "display_data"
    }
   ],
   "source": [
    "# 6 - Train your model and find the best hyperparameters for your dev set\n",
    "#     you will be evaluated on the quality of your predictions on the test set\n",
    "\n",
    "# ADAPT CODE BELOW\n",
    "import matplotlib.pyplot as plt\n",
    "%matplotlib inline\n",
    "from keras.callbacks import ModelCheckpoint\n",
    "\n",
    "mcp1 = ModelCheckpoint('weights.best.hdf5', monitor=\"val_acc\",save_best_only=True, save_weights_only=False)\n",
    "\n",
    "bs = 64\n",
    "n_epochs = 6\n",
    "\n",
    "history = model.fit(x_train, y_train, batch_size=bs, nb_epoch=n_epochs, validation_data=(x_val, y_val), callbacks = [mcp1])\n",
    "\n",
    "print(history.history.keys())\n",
    "\n",
    "plt.plot(history.history['acc'])\n",
    "plt.plot(history.history['val_acc'])\n",
    "plt.title('model accuracy')\n",
    "plt.ylabel('accuracy')\n",
    "plt.xlabel('epoch')\n",
    "plt.legend(['train', 'test'], loc='upper left')\n",
    "plt.show()\n",
    "\n",
    "plt.plot(history.history['loss'])\n",
    "plt.plot(history.history['val_loss'])\n",
    "plt.title('model loss')\n",
    "plt.ylabel('loss')\n",
    "plt.xlabel('epoch')\n",
    "plt.legend(['train', 'test'], loc='upper left')\n",
    "plt.show()"
   ]
  },
  {
   "cell_type": "code",
   "execution_count": 82,
   "metadata": {
    "colab": {},
    "colab_type": "code",
    "id": "sCOGQYg4orgT"
   },
   "outputs": [],
   "source": [
    "# 7 - Generate your predictions on the test set using model.predict(x_test)\n",
    "#     https://keras.io/models/model/\n",
    "#     Log your predictions in a file (one line = one integer: 0,1,2,3,4)\n",
    "#     Attach the output file \"logreg_lstm_y_test_sst.txt\" to your deliverable.\n",
    "\n",
    "# TYPE CODE HERE\n",
    "model = keras.models.load_model('weights.best.hdf5') \n",
    "prediction_test_one_hot = model.predict(x_test)\n",
    "prediction_test = [np.argmax(pred) for pred in prediction_test_one_hot]\n",
    "\n",
    "def write_submission(path_output,prediction):\n",
    "    lines = '\\n'.join([str(p) for p in prediction])\n",
    "    with open(path_output,'w') as f:\n",
    "        f.writelines(lines)\n",
    "    \n",
    "write_submission(os.path.join('.',r'logreg_lstm_y_test_sst.txt'),prediction_test)"
   ]
  },
  {
   "cell_type": "markdown",
   "metadata": {
    "colab_type": "text",
    "id": "R0gqQvoJorgU"
   },
   "source": [
    "## 4.3 -- innovate !"
   ]
  },
  {
   "cell_type": "code",
   "execution_count": 83,
   "metadata": {
    "colab": {},
    "colab_type": "code",
    "id": "QumtIpgSorgV"
   },
   "outputs": [
    {
     "name": "stdout",
     "output_type": "stream",
     "text": [
      "Loaded 200000 pretrained word vectors\n"
     ]
    },
    {
     "name": "stderr",
     "output_type": "stream",
     "text": [
      "/Users/omar/anaconda3/lib/python3.6/site-packages/ipykernel_launcher.py:36: UserWarning: Update your `LSTM` call to the Keras 2 API: `LSTM(50, return_sequences=False, dropout=0.3, recurrent_dropout=0.3)`\n"
     ]
    },
    {
     "name": "stdout",
     "output_type": "stream",
     "text": [
      "_________________________________________________________________\n",
      "Layer (type)                 Output Shape              Param #   \n",
      "=================================================================\n",
      "embedding_4 (Embedding)      (None, None, 300)         5860800   \n",
      "_________________________________________________________________\n",
      "bidirectional_2 (Bidirection (None, 100)               140400    \n",
      "_________________________________________________________________\n",
      "dense_4 (Dense)              (None, 5)                 505       \n",
      "=================================================================\n",
      "Total params: 6,001,705\n",
      "Trainable params: 6,001,705\n",
      "Non-trainable params: 0\n",
      "_________________________________________________________________\n",
      "None\n",
      "Train on 8544 samples, validate on 1101 samples\n",
      "Epoch 1/8\n",
      "8544/8544 [==============================] - 18s 2ms/step - loss: 1.5113 - acc: 0.3271 - val_loss: 1.4103 - val_acc: 0.3742\n",
      "Epoch 2/8\n",
      "8544/8544 [==============================] - 16s 2ms/step - loss: 1.2667 - acc: 0.4635 - val_loss: 1.3659 - val_acc: 0.4051\n",
      "Epoch 3/8\n",
      "8544/8544 [==============================] - 16s 2ms/step - loss: 1.0676 - acc: 0.5591 - val_loss: 1.4186 - val_acc: 0.3906\n",
      "Epoch 4/8\n",
      "8544/8544 [==============================] - 14s 2ms/step - loss: 0.9037 - acc: 0.6492 - val_loss: 1.5599 - val_acc: 0.3760\n",
      "Epoch 5/8\n",
      "8544/8544 [==============================] - 14s 2ms/step - loss: 0.7767 - acc: 0.7094 - val_loss: 1.7004 - val_acc: 0.3597\n",
      "Epoch 6/8\n",
      "8544/8544 [==============================] - 14s 2ms/step - loss: 0.6626 - acc: 0.7575 - val_loss: 1.8814 - val_acc: 0.3851\n",
      "Epoch 7/8\n",
      "8544/8544 [==============================] - 14s 2ms/step - loss: 0.5574 - acc: 0.7983 - val_loss: 1.9828 - val_acc: 0.3424\n",
      "Epoch 8/8\n",
      "8544/8544 [==============================] - 14s 2ms/step - loss: 0.4967 - acc: 0.8241 - val_loss: 2.1339 - val_acc: 0.3615\n"
     ]
    },
    {
     "name": "stderr",
     "output_type": "stream",
     "text": [
      "/Users/omar/anaconda3/lib/python3.6/site-packages/sklearn/svm/base.py:196: FutureWarning: The default value of gamma will change from 'auto' to 'scale' in version 0.22 to account better for unscaled features. Set gamma explicitly to 'auto' or 'scale' to avoid this warning.\n",
      "  \"avoid this warning.\", FutureWarning)\n"
     ]
    },
    {
     "name": "stdout",
     "output_type": "stream",
     "text": [
      "Precision sur le train set 0.5812265917602997\n",
      "Precision sur le dev set 0.4114441416893733\n"
     ]
    }
   ],
   "source": [
    "# 8 - Open question: find a model that is better on your dev set\n",
    "#     (e.g: use a 1D ConvNet, use a better classifier, pretrain your lookup tables ..)\n",
    "#     you will get point if the results on the test set are better: be careful of not overfitting your dev set too much..\n",
    "#     Attach the output file \"XXX_XXX_y_test_sst.txt\" to your deliverable.\n",
    "\n",
    "# TYPE CODE HERE\n",
    "\n",
    "from keras.models import Sequential\n",
    "from keras.layers import Embedding, LSTM, Dense, Activation,Dropout, Conv1D, Flatten\n",
    "from keras.layers import Bidirectional \n",
    "from keras.optimizers import RMSprop\n",
    "from keras import backend as K\n",
    "\n",
    "embed_dim  = 300  \n",
    "n_hidden = 50  \n",
    "vocab_size = n_words  \n",
    "n_classes  = 5\n",
    "\n",
    "mcp1 = ModelCheckpoint('weights.best_innovate.hdf5', monitor=\"val_acc\",save_best_only=True, save_weights_only=False)\n",
    "\n",
    "#Create the pretrained embedding matrix\n",
    "\n",
    "embedding_matrix = np.zeros((vocab_size, embed_dim))\n",
    "w2v = Word2vec(os.path.join(PATH_TO_DATA, 'crawl-300d-200k.vec'), nmax=200000)\n",
    "for w in words:\n",
    "    if w in w2v.word2vec:\n",
    "\n",
    "        index = w,text.one_hot(w,n_words)\n",
    "        if len(index)==1:\n",
    "            id_w = text.one_hot(w,n_words)[0]\n",
    "            embedding_matrix[id_w] = w2v.word2vec[w]\n",
    "\n",
    "# using BiDirectional LSTM in architecture (as in BERT)\n",
    "model = Sequential()\n",
    "model.add(Embedding(vocab_size, embed_dim, weights=[embedding_matrix]))\n",
    "model.add(Bidirectional(LSTM(n_hidden, dropout_W=0.3, dropout_U=0.3,return_sequences=False))) \n",
    "model.add(Dense(n_classes, activation='softmax'))\n",
    "\n",
    "loss_classif     =  'categorical_crossentropy' \n",
    "optimizer        =  RMSprop(lr=1e-3,decay=1e-5) \n",
    "metrics_classif  =  ['accuracy']\n",
    "\n",
    "model.compile(loss=loss_classif,\n",
    "              optimizer=optimizer,\n",
    "              metrics=metrics_classif)\n",
    "print(model.summary())\n",
    "\n",
    "bs = 64\n",
    "n_epochs = 8\n",
    "\n",
    "history = model.fit(x_train, y_train, batch_size=bs, epochs=n_epochs, validation_data=(x_val, y_val),callbacks = [mcp1])\n",
    "\n",
    "model = keras.models.load_model('weights.best_innovate.hdf5') #best score on dev 0.3915\n",
    "\n",
    "\n",
    "get_layer_output = K.function([model.layers[0].input,K.learning_phase()], [model.layers[1].output])\n",
    "layer_output_train = get_layer_output([x_train, 0])[0]\n",
    "layer_output_dev = get_layer_output([x_val, 0])[0]\n",
    "layer_output_test = get_layer_output([x_test,0])[0]\n",
    "\n",
    "y_train_rf = np.argmax(y_train,axis=1)\n",
    "y_dev_ref = y_dev\n",
    "\n",
    "from sklearn.svm import SVC\n",
    "\n",
    "model = SVC(C=0.3)\n",
    "model.fit(layer_output_train,y_train_rf)\n",
    "prediction_dev = model.predict(layer_output_dev)\n",
    "prediction_train = model.predict(layer_output_train)\n",
    "prediction_test = model.predict(layer_output_test)\n",
    "\n",
    "print('Precision sur le train set', acc_score(y_train_rf,prediction_train))\n",
    "print('Precision sur le dev set', acc_score(y_dev_ref,prediction_dev))\n",
    "\n",
    "save_submission(os.path.join('.',r'bidirectional_lstm_svm_y_test_sst.txt'),prediction_test)\n"
   ]
  },
  {
   "cell_type": "code",
   "execution_count": null,
   "metadata": {},
   "outputs": [],
   "source": []
  },
  {
   "cell_type": "code",
   "execution_count": null,
   "metadata": {},
   "outputs": [],
   "source": []
  }
 ],
 "metadata": {
  "colab": {
   "name": "nlp_project.ipynb",
   "provenance": [],
   "version": "0.3.2"
  },
  "kernelspec": {
   "display_name": "Python 3",
   "language": "python",
   "name": "python3"
  },
  "language_info": {
   "codemirror_mode": {
    "name": "ipython",
    "version": 3
   },
   "file_extension": ".py",
   "mimetype": "text/x-python",
   "name": "python",
   "nbconvert_exporter": "python",
   "pygments_lexer": "ipython3",
   "version": "3.6.7"
  }
 },
 "nbformat": 4,
 "nbformat_minor": 1
}
