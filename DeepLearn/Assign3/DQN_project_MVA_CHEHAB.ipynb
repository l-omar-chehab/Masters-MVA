{
 "cells": [
  {
   "cell_type": "code",
   "execution_count": 4,
   "metadata": {},
   "outputs": [
    {
     "name": "stderr",
     "output_type": "stream",
     "text": [
      "Using TensorFlow backend.\n",
      "/Users/omar/anaconda3/lib/python3.6/site-packages/matplotlib/__init__.py:1003: UserWarning: Duplicate key in file \"/Users/omar/.matplotlib/matplotlibrc\", line #2\n",
      "  (fname, cnt))\n",
      "/Users/omar/anaconda3/lib/python3.6/site-packages/matplotlib/__init__.py:1003: UserWarning: Duplicate key in file \"/Users/omar/.matplotlib/matplotlibrc\", line #3\n",
      "  (fname, cnt))\n"
     ]
    }
   ],
   "source": [
    "import keras\n",
    "import numpy as np\n",
    "import io\n",
    "import base64\n",
    "from IPython.display import HTML\n",
    "import skvideo.io\n",
    "import cv2\n",
    "import json\n",
    "\n",
    "from keras.models import Sequential,model_from_json\n",
    "from keras.layers.core import Dense\n",
    "from keras.optimizers import sgd\n",
    "from keras.layers import Conv2D, MaxPooling2D, Activation, AveragePooling2D,Reshape,BatchNormalization, Flatten"
   ]
  },
  {
   "cell_type": "markdown",
   "metadata": {},
   "source": [
    "# MiniProject #3: Deep Reinforcement Learning"
   ]
  },
  {
   "cell_type": "markdown",
   "metadata": {},
   "source": [
    "__Notations__: $E_p$ is the expectation under probability $p$. Please justify each of your answer and widely comment your code."
   ]
  },
  {
   "cell_type": "markdown",
   "metadata": {},
   "source": [
    "# Context"
   ]
  },
  {
   "cell_type": "markdown",
   "metadata": {},
   "source": [
    "In a reinforcement learning algorithm, we modelize each step $t$ as an action $a_t$ obtained from a state $s_t$, i.e. $\\{(a_{t},s_{t})_{t\\leq T}\\}$ having the Markov property. We consider a discount factor $\\gamma \\in [0,1]$ that ensures convergence. The goal is to find among all the policies $\\pi$, one that maximizes the expected reward:\n",
    "\n",
    "\\begin{equation*}\n",
    "R(\\pi)=\\sum_{t\\leq T}E_{p^{\\pi}}[\\gamma^t r(s_{t},a_{t})] \\> ,\n",
    "\\end{equation*}\n",
    "\n",
    "where: \n",
    "\\begin{equation*}p^{\\pi}(a_{0},a_{1},s_{1},...,a_{T},s_{T})=p(a_{0})\\prod_{t=1}^{T}\\pi(a_{t}|s_{t})p(s_{t+1}|s_{t},a_{t}) \\> .\n",
    "\\end{equation*}\n",
    "\n",
    "We note the $Q$-function:\n",
    "\n",
    "\\begin{equation*}Q^\\pi(s,a)=E_{p^{\\pi}}[\\sum_{t\\leq T}\\gamma^{t}r(s_{t},a_{t})|s_{0}=s,a_{0}=a] \\> .\n",
    "\\end{equation*}\n",
    "\n",
    "Thus, the optimal Q function is:\n",
    "\\begin{equation*}\n",
    "Q^*(s,a)=\\max_{\\pi}Q^\\pi(s,a) \\> .\n",
    "\\end{equation*}\n",
    "\n",
    "In this project, we will apply the deep reinforcement learning techniques to a simple game: an agent will have to learn from scratch a policy that will permit it maximizing a reward."
   ]
  },
  {
   "cell_type": "markdown",
   "metadata": {},
   "source": [
    "## The environment, the agent and the game"
   ]
  },
  {
   "cell_type": "markdown",
   "metadata": {},
   "source": [
    "### The environment"
   ]
  },
  {
   "cell_type": "markdown",
   "metadata": {},
   "source": [
    "```Environment``` is an abstract class that represents the states, rewards, and actions to obtain the new state."
   ]
  },
  {
   "cell_type": "code",
   "execution_count": 5,
   "metadata": {},
   "outputs": [],
   "source": [
    "class Environment(object):\n",
    "    def __init__(self):\n",
    "        pass\n",
    "\n",
    "    def act(self, act):\n",
    "        \"\"\"\n",
    "        One can act on the environment and obtain its reaction:\n",
    "        - the new state\n",
    "        - the reward of the new state\n",
    "        - should we continue the game?\n",
    "\n",
    "        :return: state, reward, game_over\n",
    "        \"\"\"\n",
    "        pass\n",
    "\n",
    "\n",
    "    def reset(self):\n",
    "        \"\"\"\n",
    "        Reinitialize the environment to a random state and returns\n",
    "        the original state\n",
    "\n",
    "        :return: state\n",
    "        \"\"\"\n",
    "        pass\n",
    "    \n",
    "    def draw(self):\n",
    "        \"\"\"\n",
    "        Visualize in the console or graphically the current state\n",
    "        \"\"\"\n",
    "        pass"
   ]
  },
  {
   "cell_type": "markdown",
   "metadata": {},
   "source": [
    "The method ```act``` allows to act on the environment at a given state $s_t$ (stored internally), via action $a_t$. The method will return the new state $s_{t+1}$, the reward $r(s_{t},a_{t})$ and determines if $t\\leq T$ (*game_over*).\n",
    "\n",
    "The method ```reset``` simply reinitializes the environment to a random state $s_0$.\n",
    "\n",
    "The method ```draw``` displays the current state $s_t$ (this is useful to check the behavior of the Agent).\n",
    "\n",
    "We modelize $s_t$ as a tensor, while $a_t$ is an integer."
   ]
  },
  {
   "cell_type": "markdown",
   "metadata": {},
   "source": [
    "### The Agent"
   ]
  },
  {
   "cell_type": "markdown",
   "metadata": {},
   "source": [
    "The goal of the ```Agent``` is to interact with the ```Environment``` by proposing actions $a_t$ obtained from a given state $s_t$ to attempt to maximize its __reward__ $r(s_t,a_t)$. We propose the following abstract class:"
   ]
  },
  {
   "cell_type": "code",
   "execution_count": 6,
   "metadata": {},
   "outputs": [],
   "source": [
    "class Agent(object):\n",
    "    def __init__(self, epsilon=0.1, n_action=4):\n",
    "        self.epsilon = epsilon\n",
    "        self.n_action = n_action\n",
    "    \n",
    "    def set_epsilon(self,e):\n",
    "        self.epsilon = e\n",
    "\n",
    "    def act(self,s,train=True):\n",
    "        \"\"\" This function should return the next action to do:\n",
    "        an integer between 0 and 4 (not included) with a random exploration of epsilon\"\"\"\n",
    "        if train:\n",
    "            if np.random.rand() <= self.epsilon:\n",
    "                a = np.random.randint(0, self.n_action, size=1)[0]\n",
    "            else:\n",
    "                a = self.learned_act(s)\n",
    "        else: # in some cases, this can improve the performance.. remove it if poor performances\n",
    "            a = self.learned_act(s)\n",
    "\n",
    "        return a\n",
    "\n",
    "    def learned_act(self,s):\n",
    "        \"\"\" Act via the policy of the agent, from a given state s\n",
    "        it proposes an action a\"\"\"\n",
    "        pass\n",
    "\n",
    "    def reinforce(self, s, n_s, a, r, game_over_):\n",
    "        \"\"\" This function is the core of the learning algorithm. \n",
    "        It takes as an input the current state s_, the next state n_s_\n",
    "        the action a_ used to move from s_ to n_s_ and the reward r_.\n",
    "        \n",
    "        Its goal is to learn a policy.\n",
    "        \"\"\"\n",
    "        pass\n",
    "\n",
    "    def save(self):\n",
    "        \"\"\" This function returns basic stats if applicable: the\n",
    "        loss and/or the model\"\"\"\n",
    "        pass\n",
    "\n",
    "    def load(self):\n",
    "        \"\"\" This function allows to restore a model\"\"\"\n",
    "        pass"
   ]
  },
  {
   "cell_type": "markdown",
   "metadata": {},
   "source": [
    "***\n",
    "__Question 1__:\n",
    "Explain the function act. Why is ```epsilon``` essential?"
   ]
  },
  {
   "cell_type": "markdown",
   "metadata": {},
   "source": [
    "\n",
    "The function *act* returns the agent's choice-of-action given the current state. <br><br>\n",
    "\n",
    "With probability 1 - epsilon, the agent will choose the action generating the most reward *given the policy he has learnt based on past experience*. The choice is structured but subject to bias, namely from past trajectory sampling. In order not to exclude action-choices disregarded at present by the agent but potentially more rewarding on the long run, it is necessary to inject *exploration*: with probability epsilon, the agent makes a random action choice. Epsilon controls the proportion of exploratory choices. "
   ]
  },
  {
   "cell_type": "markdown",
   "metadata": {},
   "source": [
    "***\n",
    "### The Game"
   ]
  },
  {
   "cell_type": "markdown",
   "metadata": {},
   "source": [
    "The ```Agent``` and the ```Environment``` work in an interlaced way as in the following (take some time to understand this code as it is the core of the project)\n",
    "\n",
    "```python\n",
    "\n",
    "epoch = 300\n",
    "env = Environment()\n",
    "agent = Agent()\n",
    "\n",
    "\n",
    "# Number of won games\n",
    "score = 0\n",
    "loss = 0\n",
    "\n",
    "\n",
    "for e in range(epoch):\n",
    "    # At each epoch, we restart to a fresh game and get the initial state\n",
    "    state = env.reset()\n",
    "    # This assumes that the games will end\n",
    "    game_over = False\n",
    "\n",
    "    win = 0\n",
    "    lose = 0\n",
    "    \n",
    "    while not game_over:\n",
    "        # The agent performs an action\n",
    "        action = agent.act(state)\n",
    "\n",
    "        # Apply an action to the environment\n",
    "        # get the next state, the reward, and game-over boolean\n",
    "        prev_state = state\n",
    "        state, reward, game_over = env.act(action)\n",
    "\n",
    "        # Update the counters\n",
    "        if reward > 0:\n",
    "            win = win + reward\n",
    "        if reward < 0:\n",
    "            lose = lose - reward\n",
    "\n",
    "        # Apply the reinforcement strategy\n",
    "        loss = agent.reinforce(prev_state, state,  action, reward, game_over)\n",
    "\n",
    "    # Save as a mp4\n",
    "    if e % 10 == 0:\n",
    "        env.draw(e)\n",
    "\n",
    "    # Update stats\n",
    "    score += win-lose\n",
    "\n",
    "    print(\"Epoch {:03d}/{:03d} | Loss {:.4f} | Win/lose count {}/{} ({})\"\n",
    "          .format(e, epoch, loss, win, lose, win-lose))\n",
    "    agent.save()\n",
    "```"
   ]
  },
  {
   "cell_type": "markdown",
   "metadata": {},
   "source": [
    "# The game, *eat cheese*"
   ]
  },
  {
   "cell_type": "markdown",
   "metadata": {},
   "source": [
    "A rat runs on an island and tries to eat as much as possible. The island is subdivided into $N\\times N$ cells, in which there are cheese (+0.5) and poisonous cells (-1). The rat has a visibility of 2 cells (thus it can see $5^2$ cells). The rat is given a time $T$ to accumulate as much food as possible. It can perform 4 actions: going up, down, left, right. \n",
    "\n",
    "The goal is to code an agent to solve this task that will learn by trial and error. We propose the following environment:"
   ]
  },
  {
   "cell_type": "code",
   "execution_count": 7,
   "metadata": {},
   "outputs": [],
   "source": [
    "class Environment(object):\n",
    "    def __init__(self, grid_size=10, max_time=500, temperature=0.1):\n",
    "        grid_size = grid_size+4\n",
    "        self.grid_size = grid_size\n",
    "        self.max_time = max_time\n",
    "        self.temperature = temperature\n",
    "\n",
    "        #board on which one plays\n",
    "        self.board = np.zeros((grid_size,grid_size))\n",
    "        self.position = np.zeros((grid_size,grid_size))\n",
    "\n",
    "        # coordinate of the cat\n",
    "        self.x = 0\n",
    "        self.y = 1\n",
    "\n",
    "        # self time\n",
    "        self.t = 0\n",
    "\n",
    "        self.scale=16\n",
    "\n",
    "        self.to_draw = np.zeros((max_time+2, grid_size*self.scale, grid_size*self.scale, 3))\n",
    "\n",
    "\n",
    "    def draw(self,e):\n",
    "        skvideo.io.vwrite(str(e) + '.mp4', self.to_draw)\n",
    "\n",
    "    def get_frame(self,t):\n",
    "        b = np.zeros((self.grid_size,self.grid_size,3))+128\n",
    "        b[self.board>0,0] = 256\n",
    "        b[self.board < 0, 2] = 256\n",
    "        b[self.x,self.y,:]=256\n",
    "        b[-2:,:,:]=0\n",
    "        b[:,-2:,:]=0\n",
    "        b[:2,:,:]=0\n",
    "        b[:,:2,:]=0\n",
    "        \n",
    "        b =  cv2.resize(b, None, fx=self.scale, fy=self.scale, interpolation=cv2.INTER_NEAREST)\n",
    "\n",
    "        self.to_draw[t,:,:,:]=b\n",
    "\n",
    "\n",
    "    def act(self, action):\n",
    "        \"\"\"This function returns the new state, reward and decides if the\n",
    "        game ends.\"\"\"\n",
    "\n",
    "        self.get_frame(int(self.t))\n",
    "\n",
    "        self.position = np.zeros((self.grid_size, self.grid_size))\n",
    "\n",
    "        self.position[0:2,:]= -1\n",
    "        self.position[:,0:2] = -1\n",
    "        self.position[-2:, :] = -1\n",
    "        self.position[-2:, :] = -1\n",
    "\n",
    "        self.position[self.x, self.y] = 1\n",
    "        if action == 0:\n",
    "            if self.x == self.grid_size-3:\n",
    "                self.x = self.x-1\n",
    "            else:\n",
    "                self.x = self.x + 1\n",
    "        elif action == 1:\n",
    "            if self.x == 2:\n",
    "                self.x = self.x+1\n",
    "            else:\n",
    "                self.x = self.x-1\n",
    "        elif action == 2:\n",
    "            if self.y == self.grid_size - 3:\n",
    "                self.y = self.y - 1\n",
    "            else:\n",
    "                self.y = self.y + 1\n",
    "        elif action == 3:\n",
    "            if self.y == 2:\n",
    "                self.y = self.y + 1\n",
    "            else:\n",
    "                self.y = self.y - 1\n",
    "        else:\n",
    "            RuntimeError('Error: action not recognized')\n",
    "\n",
    "        self.t = self.t + 1\n",
    "        reward = self.board[self.x, self.y]\n",
    "        self.board[self.x, self.y] = 0\n",
    "        game_over = self.t > self.max_time\n",
    "        state = np.concatenate((self.board.reshape(self.grid_size, self.grid_size,1),\n",
    "                        self.position.reshape(self.grid_size, self.grid_size,1)),axis=2)\n",
    "        state = state[self.x-2:self.x+3,self.y-2:self.y+3,:]\n",
    "\n",
    "        return state, reward, game_over\n",
    "\n",
    "    def reset(self):\n",
    "        \"\"\"This function resets the game and returns the initial state\"\"\"\n",
    "\n",
    "        self.x = np.random.randint(3, self.grid_size-3, size=1)[0]\n",
    "        self.y = np.random.randint(3, self.grid_size-3, size=1)[0]\n",
    "\n",
    "\n",
    "        bonus = 0.5*np.random.binomial(1,self.temperature,size=self.grid_size**2)\n",
    "        bonus = bonus.reshape(self.grid_size,self.grid_size)\n",
    "\n",
    "        malus = -1.0*np.random.binomial(1,self.temperature,size=self.grid_size**2)\n",
    "        malus = malus.reshape(self.grid_size, self.grid_size)\n",
    "\n",
    "        self.to_draw = np.zeros((self.max_time+2, self.grid_size*self.scale, self.grid_size*self.scale, 3))\n",
    "\n",
    "\n",
    "        malus[bonus>0]=0\n",
    "\n",
    "        self.board = bonus + malus\n",
    "\n",
    "        self.position = np.zeros((self.grid_size, self.grid_size))\n",
    "        self.position[0:2,:]= -1\n",
    "        self.position[:,0:2] = -1\n",
    "        self.position[-2:, :] = -1\n",
    "        self.position[-2:, :] = -1\n",
    "        self.board[self.x,self.y] = 0\n",
    "        self.t = 0\n",
    "\n",
    "        state = np.concatenate((\n",
    "                               self.board.reshape(self.grid_size, self.grid_size,1),\n",
    "                        self.position.reshape(self.grid_size, self.grid_size,1)),axis=2)\n",
    "\n",
    "        state = state[self.x - 2:self.x + 3, self.y - 2:self.y + 3, :]\n",
    "        return state"
   ]
  },
  {
   "cell_type": "markdown",
   "metadata": {},
   "source": [
    "The following elements are important because they correspond to the hyper parameters for this project:"
   ]
  },
  {
   "cell_type": "code",
   "execution_count": 8,
   "metadata": {},
   "outputs": [],
   "source": [
    "# parameters\n",
    "size = 13\n",
    "T=200\n",
    "temperature=0.3\n",
    "epochs_train=50 # set small when debugging\n",
    "epochs_test=11 # set small when debugging\n",
    "\n",
    "# display videos\n",
    "def display_videos(name):\n",
    "    video = io.open(name, 'r+b').read()\n",
    "    encoded = base64.b64encode(video)\n",
    "    return '''<video alt=\"test\" controls>\n",
    "                <source src=\"data:video/mp4;base64,{0}\" type=\"video/mp4\" />\n",
    "             </video>'''.format(encoded.decode('ascii'))"
   ]
  },
  {
   "cell_type": "markdown",
   "metadata": {},
   "source": [
    "__Question 2__ Explain the use of the arrays ```position``` and ```board```."
   ]
  },
  {
   "cell_type": "markdown",
   "metadata": {},
   "source": [
    "The array *position* encodes the possibilities of displacement for the rat: -1 signals a boundary (can't move there), 0 signals an accessible location, and 1 denotes the current position of the rat. \n",
    "\n",
    "The board associates to each cell of the grid a corresponding reward. "
   ]
  },
  {
   "cell_type": "markdown",
   "metadata": {},
   "source": [
    "## Random Agent"
   ]
  },
  {
   "cell_type": "markdown",
   "metadata": {},
   "source": [
    "***\n",
    "__Question 3__ Implement a random Agent (only ```learned_act``` needs to be implemented):"
   ]
  },
  {
   "cell_type": "code",
   "execution_count": 9,
   "metadata": {},
   "outputs": [],
   "source": [
    "class RandomAgent(Agent):\n",
    "    def __init__(self):\n",
    "        super(RandomAgent, self).__init__()\n",
    "        pass\n",
    "\n",
    "    def learned_act(self, s):\n",
    "        a = np.random.randint(0, self.n_action, size=1)[0]\n",
    "        return a"
   ]
  },
  {
   "cell_type": "markdown",
   "metadata": {},
   "source": [
    "***\n",
    "***\n",
    "__Question 4__ Visualize the game moves. You need to fill in the following function for the evaluation:"
   ]
  },
  {
   "cell_type": "code",
   "execution_count": 10,
   "metadata": {},
   "outputs": [],
   "source": [
    "def test(agent,env,epochs,prefix=''):\n",
    "    # Number of won games\n",
    "    score = 0\n",
    "        \n",
    "    for e in range(epochs):\n",
    "        \n",
    "        state = env.reset() # assuming games will end\n",
    "        game_over = False\n",
    "\n",
    "        win = 0\n",
    "        lose = 0\n",
    "        \n",
    "        while not game_over:\n",
    "            \n",
    "            action = agent.act(state,train=False) \n",
    "            # during test phase: no epsilon greedy approach\n",
    "            \n",
    "            prev_state = state\n",
    "            state, reward, game_over = env.act(action)\n",
    "            \n",
    "            if reward > 0:\n",
    "                win = win + reward \n",
    "            if reward < 0:\n",
    "                lose = lose - reward\n",
    "                \n",
    "        # Save as a mp4\n",
    "        env.draw(prefix+str(e))\n",
    "\n",
    "        # Update stats\n",
    "        score = score + win - lose\n",
    "\n",
    "        print(\"Win/lose count {}/{}. Average score ({})\"\n",
    "              .format(win, lose, score/(1+e)))\n",
    "    print('Final score: '+str(score/epochs))"
   ]
  },
  {
   "cell_type": "code",
   "execution_count": 11,
   "metadata": {},
   "outputs": [
    {
     "name": "stdout",
     "output_type": "stream",
     "text": [
      "Win/lose count 7.5/12.0. Average score (-4.5)\n",
      "Win/lose count 11.5/8.0. Average score (-0.5)\n",
      "Win/lose count 6.0/17.0. Average score (-4.0)\n",
      "Win/lose count 11.0/4.0. Average score (-1.25)\n",
      "Win/lose count 12.0/6.0. Average score (0.2)\n",
      "Win/lose count 7.0/13.0. Average score (-0.8333333333333334)\n",
      "Win/lose count 13.5/11.0. Average score (-0.35714285714285715)\n",
      "Win/lose count 4.0/11.0. Average score (-1.1875)\n",
      "Win/lose count 7.5/6.0. Average score (-0.8888888888888888)\n",
      "Win/lose count 9.5/12.0. Average score (-1.05)\n",
      "Win/lose count 12.5/12.0. Average score (-0.9090909090909091)\n",
      "Final score: -0.9090909090909091\n"
     ]
    },
    {
     "data": {
      "text/html": [
       "<video alt=\"test\" controls>\n",
       "                <source src=\"data:video/mp4;base64,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\" type=\"video/mp4\" />\n",
       "             </video>"
      ],
      "text/plain": [
       "<IPython.core.display.HTML object>"
      ]
     },
     "execution_count": 11,
     "metadata": {},
     "output_type": "execute_result"
    }
   ],
   "source": [
    "# Initialize the game\n",
    "env = Environment(grid_size=size, max_time=T,temperature=temperature)\n",
    "\n",
    "# Initialize the agent!\n",
    "agent = RandomAgent()\n",
    "\n",
    "test(agent,env,epochs_test,prefix='random')\n",
    "HTML(display_videos('random0.mp4'))"
   ]
  },
  {
   "cell_type": "markdown",
   "metadata": {},
   "source": [
    "***\n",
    "## DQN"
   ]
  },
  {
   "cell_type": "markdown",
   "metadata": {},
   "source": [
    "Let us assume here that $T=\\infty$.\n",
    "\n",
    "***\n",
    "__Question 5__ Let $\\pi$ be a policy, show that:\n",
    "\n",
    "\\begin{equation*}\n",
    "Q^{\\pi}(s,a)=E_{(s',a')\\sim p(.|s,a)}[r(s,a)+\\gamma Q^{\\pi}(s',a')]\n",
    "\\end{equation*}\n",
    "\n",
    "Then, show that for the optimal policy $\\pi^*$ (we assume its existence), the following holds: \n",
    "\n",
    "\\begin{equation*}\n",
    "Q^{*}(s,a)=E_{s'\\sim \\pi^*(.|s,a)}[r(s,a)+\\gamma\\max_{a'}Q^{*}(s',a')].\n",
    "\\end{equation*}\n",
    "Finally, deduce that a plausible objective is:\n",
    "\n",
    "\\begin{equation*}\n",
    "\\mathcal{L}(\\theta)=E_{s' \\sim \\pi^*(.|s,a)}\\Vert r+\\gamma\\max\\max_{a'}Q(s',a',\\theta)-Q(s,a,\\theta)\\Vert^{2}.\n",
    "\\end{equation*}\n",
    "\n",
    "\n"
   ]
  },
  {
   "cell_type": "markdown",
   "metadata": {},
   "source": [
    "We have:\n",
    "\n",
    "\\begin{align}\n",
    "Q^{\\pi}(s,a)&=E[ \\sum_{k=0}^{\\infty} \\gamma^k r_{t+k}|s_t = s, a_t = a] \\\\\n",
    "& = E[ r(s,a) + \\sum_{k=1}^{\\infty} \\gamma^k r_{t+k}|s_t = s, a_t = a] \\\\\n",
    "& =  r(s,a) + \\gamma E[E[\\sum_{k=0}^{\\infty}[\\gamma^k r_{t+1+k}|s_{t+1}=s',a_{t+1}=a']|s_t = s, a_t = a] \\\\\n",
    "& =  r(s,a) + \\gamma \\sum_{(s',a')}(p(s_{t+1}=s',a_{t+1}=a' |s_t = s, a_t = a )[E[\\sum_{k=0}^{\\infty}\\gamma^k r_{t+1+k}|s_{t+1}=s',a_{t+1}=a']\\\\\n",
    "& =  \\sum_{(s',a')} (p(s_{t+1}=s',a_{t+1}=a' |s_t = s, a_t = a ) r(s,a) + \\gamma \\sum_{(s',a')}(p(s_{t+1}=s',a_{t+1}=a' |s_t = s, a_t = a )E[\\sum_{k=0}^{\\infty}\\gamma^k r_{t+1+k}|s_{t+1}=s',a_{t+1}=a']\\\\\n",
    "&=E_{(s',a')\\sim p(.|s,a)}[r(s,a)+\\gamma Q^{\\pi}(s',a')]\n",
    "\\end{align}\n",
    "\n",
    "Then we have:\n",
    "\n",
    "\\begin{align}\n",
    "Q^{*}(s,a) &= \\max_{\\pi}E_{(s',a')\\sim p(.|s,a)}[r(s,a)+\\gamma Q^{\\pi}(s',a')] \\\\\n",
    "&= \\max_{\\pi}r(s,a) + \\gamma \\sum(p(s_{t+1}=s' |s_t = s, a_t = a )Q^{\\pi}(s',a')\\\\\n",
    "&= r(s,a) + \\gamma \\max_{\\pi} \\sum(p(s_{t+1}=s' |s_t = s, a_t = a )Q^{\\pi'}(s',a') \\qquad \\text{with } \\pi=(a',\\pi')\n",
    "\\end{align}\n",
    "\n",
    "We can exchange the max and the sum:\n",
    "\n",
    "\\begin{align}\n",
    "Q^{*}(s,a)&= r(s,a) + \\gamma  \\sum(p(s_{t+1}=s' |s_t = s, a_t = a )\\max_{a'}\\max_{\\pi'}Q^{\\pi'}(s',a') \\\\\n",
    "&= r(s,a) + \\gamma \\sum(p(s_{t+1}=s' |s_t = s, a_t = a )\\max_{a'} Q^{*}(s',a') \\\\ \n",
    "&=E_{s'\\sim \\pi^*(.|s,a)}[r(s,a)+\\gamma\\max_{a'}Q^{*}(s',a')].\n",
    "\\end{align}\n",
    "\n",
    "The proposed objective function \n",
    "\n",
    "\\begin{equation*}\n",
    "\\mathcal{L}(\\theta)=E_{s' \\sim \\pi^*(.|s,a)}\\Vert r+\\gamma\\max_{a'}Q(s',a',\\theta)-Q(s,a,\\theta)\\Vert^{2}.\n",
    "\\end{equation*}\n",
    "\n",
    "This loss enforces Bellman optimality at convergence. "
   ]
  },
  {
   "cell_type": "markdown",
   "metadata": {},
   "source": [
    "***\n",
    "The DQN-learning algorithm relies on these derivations to train the parameters $\\theta$ of a Deep Neural Network:\n",
    "\n",
    "1. At the state $s_t$, select the action $a_t$ with best reward using $Q_t$ and store the results;\n",
    "\n",
    "2. Obtain the new state $s_{t+1}$ from the environment $p$;\n",
    "\n",
    "3. Store $(s_t,a_t,s_{t+1})$;\n",
    "\n",
    "4. Obtain $Q_{t+1}$ by minimizing  $\\mathcal{L}$ from a recovered batch from the previously stored results.\n",
    "\n",
    "***\n",
    "__Question 6__ Implement the class ```Memory``` that stores moves (in a replay buffer) via ```remember``` and provides a ```random_access``` to these. Specify a maximum memory size to avoid side effects. You can for example use a ```list()``` and set by default ```max_memory=100```."
   ]
  },
  {
   "cell_type": "code",
   "execution_count": 12,
   "metadata": {},
   "outputs": [],
   "source": [
    "class Memory(object):\n",
    "    \n",
    "    def __init__(self, max_memory=100):\n",
    "        self.max_memory = max_memory\n",
    "        self.memory = list()\n",
    "\n",
    "    def remember(self, m):\n",
    "        self.memory.append(m)\n",
    "        if len(self.memory) > self.max_memory:\n",
    "            del self.memory[0]\n",
    "        \n",
    "    def random_access(self):\n",
    "        i = np.random.randint(0, len(self.memory), size=1)[0]\n",
    "        return self.memory[i]    "
   ]
  },
  {
   "cell_type": "markdown",
   "metadata": {},
   "source": [
    "***\n",
    "The pipeline we will use for training is given below:"
   ]
  },
  {
   "cell_type": "code",
   "execution_count": 13,
   "metadata": {},
   "outputs": [],
   "source": [
    "def train(agent,env,epoch,prefix=''):\n",
    "    # Number of won games\n",
    "    score = 0\n",
    "    loss = 0\n",
    "\n",
    "    for e in range(epoch):\n",
    "        # At each epoch, we restart to a fresh game and get the initial state\n",
    "        state = env.reset()\n",
    "        # This assumes that the games will terminate\n",
    "        game_over = False\n",
    "\n",
    "        win = 0\n",
    "        lose = 0\n",
    "\n",
    "        while not game_over:\n",
    "            # The agent performs an action\n",
    "            action = agent.act(state)\n",
    "\n",
    "            # Apply an action to the environment, get the next state, the reward\n",
    "            # and if the games end\n",
    "            prev_state = state\n",
    "            state, reward, game_over = env.act(action)\n",
    "\n",
    "            # Update the counters\n",
    "            if reward > 0:\n",
    "                win = win + reward\n",
    "            if reward < 0:\n",
    "                lose = lose -reward\n",
    "\n",
    "            # Apply the reinforcement strategy\n",
    "            loss = agent.reinforce(prev_state, state,  action, reward, game_over)\n",
    "\n",
    "        # Save as a mp4\n",
    "        if e % 10 == 0:\n",
    "            env.draw(prefix+str(e))\n",
    "\n",
    "        # Update stats\n",
    "        score += win-lose\n",
    "\n",
    "        print(\"Epoch {:03d}/{:03d} | Loss {:.4f} | Win/lose count {}/{} ({})\"\n",
    "              .format(e, epoch, loss, win, lose, win-lose))\n",
    "        agent.save(name_weights=prefix+'model.h5',name_model=prefix+'model.json')"
   ]
  },
  {
   "cell_type": "markdown",
   "metadata": {},
   "source": [
    "***\n",
    "__Question 7__ Implement the DQN training algorithm using a cascade of fully connected layers. You can use different learning rate, batch size or memory size parameters. In particular, the loss might oscillate while the player will start to win the games. You have to find a good criterium."
   ]
  },
  {
   "cell_type": "code",
   "execution_count": 14,
   "metadata": {},
   "outputs": [],
   "source": [
    "class DQN(Agent):\n",
    "    def __init__(self, grid_size,  epsilon = 0.1, memory_size=100, batch_size = 16,n_state=2):\n",
    "        super(DQN, self).__init__(epsilon = epsilon)\n",
    "\n",
    "        # Discount for Q learning\n",
    "        self.discount = 0.99\n",
    "        \n",
    "        self.grid_size = grid_size\n",
    "        \n",
    "        # number of state\n",
    "        self.n_state = n_state\n",
    "\n",
    "        # Memory\n",
    "        self.memory = Memory(memory_size)\n",
    "        \n",
    "        # Batch size when learning\n",
    "        self.batch_size = batch_size\n",
    "\n",
    "    def learned_act(self, s):\n",
    "        return np.argmax(self.model.predict(s.reshape([1,s.shape[0],s.shape[1],s.shape[2]]))[0,:])\n",
    "\n",
    "    def reinforce(self, s_, n_s_, a_, r_, game_over_):\n",
    "        \n",
    "        # Two steps: first memorize the states, second learn from the pool\n",
    "        \n",
    "        self.memory.remember([s_, n_s_, a_, r_, game_over_])\n",
    "        \n",
    "        input_states = np.zeros((self.batch_size, 5,5,self.n_state))\n",
    "        target_q = np.zeros((self.batch_size, 4))\n",
    "        \n",
    "        for i in range(self.batch_size):\n",
    "            s_, n_s_, a_, r_, game_over_  = self.memory.random_access()\n",
    "            target_q[i] = self.model.predict(s_.reshape([1,s_.shape[0],s_.shape[1],s_.shape[2]]))[0]\n",
    "            \n",
    "            if game_over_:\n",
    "                input_states[i] = s_\n",
    "                target_q[i,a_] = r_\n",
    "\n",
    "            else:\n",
    "                input_states[i] = s_\n",
    "                target_q[i,a_] = r_  + self.discount*max(self.model.predict(n_s_.reshape([1,s_.shape[0],s_.shape[1],s_.shape[2]]))[0])\n",
    "        \n",
    "        # HINT: Clip the target to avoid exploiding gradients.. -- clipping is a bit tighter\n",
    "        target_q = np.clip(target_q, -3, 3)\n",
    "\n",
    "        l = self.model.train_on_batch(input_states, target_q)\n",
    "\n",
    "        return l\n",
    "\n",
    "    def save(self,name_weights='model.h5',name_model='model.json'):\n",
    "        self.model.save_weights(name_weights, overwrite=True)\n",
    "        with open(name_model, \"w\") as outfile:\n",
    "            json.dump(self.model.to_json(), outfile)\n",
    "            \n",
    "    def load(self,name_weights='model.h5',name_model='model.json'):\n",
    "        with open(name_model, \"r\") as jfile:\n",
    "            model = model_from_json(json.load(jfile))\n",
    "        model.load_weights(name_weights)\n",
    "        model.compile(\"sgd\", \"mse\")\n",
    "        self.model = model\n",
    "\n",
    "            \n",
    "class DQN_FC(DQN):\n",
    "    def __init__(self, *args, lr=0.1,**kwargs):\n",
    "        super(DQN_FC, self).__init__( *args,**kwargs)\n",
    "        \n",
    "        # NN Model\n",
    "        model = Sequential()\n",
    "        model.add(Flatten(input_shape=(5,5,self.n_state,)))\n",
    "        model.add(Dense(30,activation ='relu')) # one hidden layer network \n",
    "        model.add(Dense(4))\n",
    "        \n",
    "        model.compile(sgd(lr=lr, decay=1e-4, momentum=0.0), \"mse\")\n",
    "        self.model = model\n",
    "        "
   ]
  },
  {
   "cell_type": "code",
   "execution_count": 15,
   "metadata": {},
   "outputs": [
    {
     "name": "stdout",
     "output_type": "stream",
     "text": [
      "Epoch 000/050 | Loss 0.0313 | Win/lose count 3.0/5.0 (-2.0)\n",
      "Epoch 001/050 | Loss 0.0047 | Win/lose count 2.0/2.0 (0.0)\n",
      "Epoch 002/050 | Loss 0.0074 | Win/lose count 4.0/5.0 (-1.0)\n",
      "Epoch 003/050 | Loss 0.0203 | Win/lose count 1.0/1.0 (0.0)\n",
      "Epoch 004/050 | Loss 0.0097 | Win/lose count 6.5/4.0 (2.5)\n",
      "Epoch 005/050 | Loss 0.0062 | Win/lose count 2.5/3.0 (-0.5)\n",
      "Epoch 006/050 | Loss 0.0261 | Win/lose count 3.5/0 (3.5)\n",
      "Epoch 007/050 | Loss 0.0914 | Win/lose count 3.0/1.0 (2.0)\n",
      "Epoch 008/050 | Loss 0.0085 | Win/lose count 4.0/6.0 (-2.0)\n",
      "Epoch 009/050 | Loss 0.0845 | Win/lose count 3.5/3.0 (0.5)\n",
      "Epoch 010/050 | Loss 0.0021 | Win/lose count 3.0/4.0 (-1.0)\n",
      "Epoch 011/050 | Loss 0.0097 | Win/lose count 6.0/7.0 (-1.0)\n",
      "Epoch 012/050 | Loss 0.0073 | Win/lose count 4.5/4.0 (0.5)\n",
      "Epoch 013/050 | Loss 0.0047 | Win/lose count 1.0/3.0 (-2.0)\n",
      "Epoch 014/050 | Loss 0.0711 | Win/lose count 8.0/3.0 (5.0)\n",
      "Epoch 015/050 | Loss 0.0092 | Win/lose count 3.5/4.0 (-0.5)\n",
      "Epoch 016/050 | Loss 0.0069 | Win/lose count 6.5/4.0 (2.5)\n",
      "Epoch 017/050 | Loss 0.0049 | Win/lose count 1.5/2.0 (-0.5)\n",
      "Epoch 018/050 | Loss 0.0098 | Win/lose count 4.0/1.0 (3.0)\n",
      "Epoch 019/050 | Loss 0.0084 | Win/lose count 4.5/0 (4.5)\n",
      "Epoch 020/050 | Loss 0.0015 | Win/lose count 2.5/1.0 (1.5)\n",
      "Epoch 021/050 | Loss 0.0573 | Win/lose count 3.5/0 (3.5)\n",
      "Epoch 022/050 | Loss 0.0633 | Win/lose count 2.0/0 (2.0)\n",
      "Epoch 023/050 | Loss 0.0030 | Win/lose count 10.5/1.0 (9.5)\n",
      "Epoch 024/050 | Loss 0.0032 | Win/lose count 7.0/2.0 (5.0)\n",
      "Epoch 025/050 | Loss 0.0021 | Win/lose count 3.0/2.0 (1.0)\n",
      "Epoch 026/050 | Loss 0.0011 | Win/lose count 7.0/5.0 (2.0)\n",
      "Epoch 027/050 | Loss 0.0057 | Win/lose count 3.5/3.0 (0.5)\n",
      "Epoch 028/050 | Loss 0.0040 | Win/lose count 5.0/3.0 (2.0)\n",
      "Epoch 029/050 | Loss 0.0066 | Win/lose count 3.0/3.0 (0.0)\n",
      "Epoch 030/050 | Loss 0.0551 | Win/lose count 7.0/2.0 (5.0)\n",
      "Epoch 031/050 | Loss 0.0037 | Win/lose count 7.0/2.0 (5.0)\n",
      "Epoch 032/050 | Loss 0.0030 | Win/lose count 3.5/1.0 (2.5)\n",
      "Epoch 033/050 | Loss 0.0046 | Win/lose count 5.0/3.0 (2.0)\n",
      "Epoch 034/050 | Loss 0.0065 | Win/lose count 7.5/4.0 (3.5)\n",
      "Epoch 035/050 | Loss 0.0040 | Win/lose count 6.5/0 (6.5)\n",
      "Epoch 036/050 | Loss 0.0065 | Win/lose count 9.0/4.0 (5.0)\n",
      "Epoch 037/050 | Loss 0.0042 | Win/lose count 13.0/6.0 (7.0)\n",
      "Epoch 038/050 | Loss 0.0084 | Win/lose count 2.5/1.0 (1.5)\n",
      "Epoch 039/050 | Loss 0.0059 | Win/lose count 14.0/2.0 (12.0)\n",
      "Epoch 040/050 | Loss 0.0037 | Win/lose count 10.5/4.0 (6.5)\n",
      "Epoch 041/050 | Loss 0.0077 | Win/lose count 15.0/4.0 (11.0)\n",
      "Epoch 042/050 | Loss 0.0046 | Win/lose count 8.5/4.0 (4.5)\n",
      "Epoch 043/050 | Loss 0.0058 | Win/lose count 8.0/4.0 (4.0)\n",
      "Epoch 044/050 | Loss 0.0055 | Win/lose count 13.0/5.0 (8.0)\n",
      "Epoch 045/050 | Loss 0.0037 | Win/lose count 4.0/3.0 (1.0)\n",
      "Epoch 046/050 | Loss 0.0140 | Win/lose count 6.0/5.0 (1.0)\n",
      "Epoch 047/050 | Loss 0.0047 | Win/lose count 9.0/3.0 (6.0)\n",
      "Epoch 048/050 | Loss 0.0096 | Win/lose count 13.0/6.0 (7.0)\n",
      "Epoch 049/050 | Loss 0.0052 | Win/lose count 10.0/5.0 (5.0)\n"
     ]
    },
    {
     "data": {
      "text/html": [
       "<video alt=\"test\" controls>\n",
       "                <source src=\"data:video/mp4;base64,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\" type=\"video/mp4\" />\n",
       "             </video>"
      ],
      "text/plain": [
       "<IPython.core.display.HTML object>"
      ]
     },
     "execution_count": 15,
     "metadata": {},
     "output_type": "execute_result"
    }
   ],
   "source": [
    "epochs_train = 50 \n",
    "env = Environment(grid_size=size, max_time=T, temperature=0.3)\n",
    "agent = DQN_FC(size, lr=.1, epsilon = 0.1, memory_size=2000, batch_size = 32)\n",
    "train(agent, env, epochs_train, prefix='fc_train')\n",
    "HTML(display_videos('fc_train10.mp4'))"
   ]
  },
  {
   "cell_type": "markdown",
   "metadata": {},
   "source": [
    "# Choice of network architecture\n",
    "\n",
    "\n",
    "We took a 0.1 learning rate, 32 batch size, and 2000 memory size, over 50 training epochs. Varying parameters:\n",
    "\n",
    "| Hidden Layers | Batchnorm       | Final Test Score (Average over 50 epochs)\n",
    "| :------------ | :------------ | :------------ |\n",
    "|** 1  ** | no  |  **3.01** |\n",
    "| 1   | yes |  2.71 |\n",
    "| 2       |  no |    1.6 |\n",
    "| 2       |  yes |   0.28 |\n",
    "| 3     |  no |2.32 |\n",
    "| 3     |   yes  |-0.47|\n",
    "\n",
    "We also tried *for different values of epsilon* which did not yield better scores. In this case, the simplest architecture prevails.   "
   ]
  },
  {
   "cell_type": "markdown",
   "metadata": {},
   "source": [
    "***\n",
    "***\n",
    "__Question 8__ Implement the DQN training algorithm using a CNN (for example, 2 convolutional layers and one final fully connected layer)."
   ]
  },
  {
   "cell_type": "code",
   "execution_count": 16,
   "metadata": {},
   "outputs": [],
   "source": [
    "class DQN_CNN(DQN):\n",
    "    def __init__(self, *args,lr=0.1,**kwargs):\n",
    "        super(DQN_CNN, self).__init__(*args,**kwargs)\n",
    "        \n",
    "        model = Sequential()\n",
    "        model.add(Conv2D(50,(2,2),input_shape=(5,5,self.n_state,),activation='relu'))\n",
    "        model.add(Conv2D(30,(2,2),activation='relu'))\n",
    "        model.add(Flatten())\n",
    "        model.add(Dense(4))\n",
    "        model.compile(sgd(lr=lr, decay=1e-4, momentum=0.0), \"mse\")\n",
    "        \n",
    "        self.model = model"
   ]
  },
  {
   "cell_type": "code",
   "execution_count": 17,
   "metadata": {},
   "outputs": [
    {
     "name": "stdout",
     "output_type": "stream",
     "text": [
      "Epoch 000/050 | Loss 0.0079 | Win/lose count 4.0/5.0 (-1.0)\n",
      "Epoch 001/050 | Loss 0.0049 | Win/lose count 2.5/4.0 (-1.5)\n",
      "Epoch 002/050 | Loss 0.0076 | Win/lose count 5.0/3.0 (2.0)\n",
      "Epoch 003/050 | Loss 0.0081 | Win/lose count 4.0/2.0 (2.0)\n",
      "Epoch 004/050 | Loss 0.0021 | Win/lose count 8.0/6.0 (2.0)\n",
      "Epoch 005/050 | Loss 0.0271 | Win/lose count 5.5/2.0 (3.5)\n",
      "Epoch 006/050 | Loss 0.0038 | Win/lose count 4.5/3.0 (1.5)\n",
      "Epoch 007/050 | Loss 0.0049 | Win/lose count 10.0/6.0 (4.0)\n",
      "Epoch 008/050 | Loss 0.0025 | Win/lose count 10.5/4.0 (6.5)\n",
      "Epoch 009/050 | Loss 0.0025 | Win/lose count 8.0/1.0 (7.0)\n",
      "Epoch 010/050 | Loss 0.0536 | Win/lose count 11.0/5.0 (6.0)\n",
      "Epoch 011/050 | Loss 0.0042 | Win/lose count 6.0/2.0 (4.0)\n",
      "Epoch 012/050 | Loss 0.0033 | Win/lose count 9.0/1.0 (8.0)\n",
      "Epoch 013/050 | Loss 0.0026 | Win/lose count 15.5/2.0 (13.5)\n",
      "Epoch 014/050 | Loss 0.0454 | Win/lose count 4.5/0 (4.5)\n",
      "Epoch 015/050 | Loss 0.0017 | Win/lose count 6.5/2.0 (4.5)\n",
      "Epoch 016/050 | Loss 0.0015 | Win/lose count 8.0/2.0 (6.0)\n",
      "Epoch 017/050 | Loss 0.0554 | Win/lose count 5.5/3.0 (2.5)\n",
      "Epoch 018/050 | Loss 0.0024 | Win/lose count 14.5/4.0 (10.5)\n",
      "Epoch 019/050 | Loss 0.0037 | Win/lose count 6.0/0 (6.0)\n",
      "Epoch 020/050 | Loss 0.0012 | Win/lose count 7.5/5.0 (2.5)\n",
      "Epoch 021/050 | Loss 0.0023 | Win/lose count 10.0/4.0 (6.0)\n",
      "Epoch 022/050 | Loss 0.0026 | Win/lose count 13.0/3.0 (10.0)\n",
      "Epoch 023/050 | Loss 0.0019 | Win/lose count 15.0/5.0 (10.0)\n",
      "Epoch 024/050 | Loss 0.0498 | Win/lose count 10.0/3.0 (7.0)\n",
      "Epoch 025/050 | Loss 0.0019 | Win/lose count 10.5/1.0 (9.5)\n",
      "Epoch 026/050 | Loss 0.0020 | Win/lose count 12.0/4.0 (8.0)\n",
      "Epoch 027/050 | Loss 0.0487 | Win/lose count 3.0/1.0 (2.0)\n",
      "Epoch 028/050 | Loss 0.0061 | Win/lose count 13.0/6.0 (7.0)\n",
      "Epoch 029/050 | Loss 0.0031 | Win/lose count 14.5/4.0 (10.5)\n",
      "Epoch 030/050 | Loss 0.0023 | Win/lose count 21.5/2.0 (19.5)\n",
      "Epoch 031/050 | Loss 0.0026 | Win/lose count 12.5/0 (12.5)\n",
      "Epoch 032/050 | Loss 0.0497 | Win/lose count 12.5/3.0 (9.5)\n",
      "Epoch 033/050 | Loss 0.0026 | Win/lose count 21.0/2.0 (19.0)\n",
      "Epoch 034/050 | Loss 0.0026 | Win/lose count 9.0/4.0 (5.0)\n",
      "Epoch 035/050 | Loss 0.0030 | Win/lose count 14.5/5.0 (9.5)\n",
      "Epoch 036/050 | Loss 0.0024 | Win/lose count 8.0/2.0 (6.0)\n",
      "Epoch 037/050 | Loss 0.0025 | Win/lose count 18.5/2.0 (16.5)\n",
      "Epoch 038/050 | Loss 0.0022 | Win/lose count 19.0/4.0 (15.0)\n",
      "Epoch 039/050 | Loss 0.0490 | Win/lose count 12.5/4.0 (8.5)\n",
      "Epoch 040/050 | Loss 0.0540 | Win/lose count 18.0/3.0 (15.0)\n",
      "Epoch 041/050 | Loss 0.0015 | Win/lose count 13.0/1.0 (12.0)\n",
      "Epoch 042/050 | Loss 0.0023 | Win/lose count 23.0/4.0 (19.0)\n",
      "Epoch 043/050 | Loss 0.0019 | Win/lose count 18.5/1.0 (17.5)\n",
      "Epoch 044/050 | Loss 0.0014 | Win/lose count 19.5/2.0 (17.5)\n",
      "Epoch 045/050 | Loss 0.0030 | Win/lose count 12.0/3.0 (9.0)\n",
      "Epoch 046/050 | Loss 0.0021 | Win/lose count 21.5/4.0 (17.5)\n",
      "Epoch 047/050 | Loss 0.0013 | Win/lose count 22.5/2.0 (20.5)\n",
      "Epoch 048/050 | Loss 0.0013 | Win/lose count 7.5/2.0 (5.5)\n",
      "Epoch 049/050 | Loss 0.0015 | Win/lose count 11.5/3.0 (8.5)\n"
     ]
    },
    {
     "data": {
      "text/html": [
       "<video alt=\"test\" controls>\n",
       "                <source src=\"data:video/mp4;base64,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\" type=\"video/mp4\" />\n",
       "             </video>"
      ],
      "text/plain": [
       "<IPython.core.display.HTML object>"
      ]
     },
     "execution_count": 17,
     "metadata": {},
     "output_type": "execute_result"
    }
   ],
   "source": [
    "env = Environment(grid_size=size, max_time=T, temperature=0.3)\n",
    "agent = DQN_CNN(size, lr=.1, epsilon = 0.1, memory_size=2000, batch_size = 32)\n",
    "train(agent,env,epochs_train,prefix='cnn_train')\n",
    "HTML(display_videos('cnn_train10.mp4'))"
   ]
  },
  {
   "cell_type": "markdown",
   "metadata": {},
   "source": [
    "***\n",
    "***\n",
    "__Question 9__ Test both algorithms and compare their performances. Which issue(s) do you observe? Observe also different behaviors by changing the temperature."
   ]
  },
  {
   "cell_type": "code",
   "execution_count": 18,
   "metadata": {},
   "outputs": [
    {
     "name": "stdout",
     "output_type": "stream",
     "text": [
      "Test of the CNN\n",
      "Win/lose count 11.5/0. Average score (11.5)\n",
      "Win/lose count 3.5/0. Average score (7.5)\n",
      "Win/lose count 4.5/0. Average score (6.5)\n",
      "Win/lose count 1.5/0. Average score (5.25)\n",
      "Win/lose count 20.5/0. Average score (8.3)\n",
      "Win/lose count 2.5/0. Average score (7.333333333333333)\n",
      "Win/lose count 5.5/0. Average score (7.071428571428571)\n",
      "Win/lose count 2.0/0. Average score (6.4375)\n",
      "Win/lose count 2.0/0. Average score (5.944444444444445)\n",
      "Win/lose count 7.0/0. Average score (6.05)\n",
      "Win/lose count 1.0/0. Average score (5.590909090909091)\n",
      "Final score: 5.590909090909091\n",
      "Test of the FC\n",
      "Win/lose count 2.5/0. Average score (2.5)\n",
      "Win/lose count 9.0/1.0. Average score (5.25)\n",
      "Win/lose count 2.0/0. Average score (4.166666666666667)\n",
      "Win/lose count 5.5/0. Average score (4.5)\n",
      "Win/lose count 3.5/0. Average score (4.3)\n",
      "Win/lose count 3.0/1.0. Average score (3.9166666666666665)\n",
      "Win/lose count 3.5/0. Average score (3.857142857142857)\n",
      "Win/lose count 4.0/0. Average score (3.875)\n",
      "Win/lose count 3.0/0. Average score (3.7777777777777777)\n",
      "Win/lose count 3.5/0. Average score (3.75)\n",
      "Win/lose count 2.5/0. Average score (3.6363636363636362)\n",
      "Final score: 3.6363636363636362\n"
     ]
    }
   ],
   "source": [
    "env = Environment(grid_size=size, max_time=T,temperature=0.3)\n",
    "agent_cnn = DQN_CNN(size, lr=.1, epsilon = 0.1, memory_size=2000, batch_size = 32)\n",
    "agent_cnn.load(name_weights='cnn_trainmodel.h5',name_model='cnn_trainmodel.json')\n",
    "\n",
    "agent_fc = DQN_FC(size, lr=.1, epsilon = 0.1, memory_size=2000, batch_size = 32)\n",
    "agent_fc.load(name_weights='fc_trainmodel.h5',name_model='fc_trainmodel.json')\n",
    "print('Test of the CNN')\n",
    "test(agent_cnn,env,epochs_test,prefix='cnn_test')\n",
    "print('Test of the FC')\n",
    "test(agent_fc,env,epochs_test,prefix='fc_test')"
   ]
  },
  {
   "cell_type": "code",
   "execution_count": 19,
   "metadata": {},
   "outputs": [
    {
     "data": {
      "text/html": [
       "<video alt=\"test\" controls>\n",
       "                <source src=\"data:video/mp4;base64,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\" type=\"video/mp4\" />\n",
       "             </video>"
      ],
      "text/plain": [
       "<IPython.core.display.HTML object>"
      ]
     },
     "execution_count": 19,
     "metadata": {},
     "output_type": "execute_result"
    }
   ],
   "source": [
    "HTML(display_videos('cnn_test10.mp4'))"
   ]
  },
  {
   "cell_type": "code",
   "execution_count": 20,
   "metadata": {},
   "outputs": [
    {
     "data": {
      "text/html": [
       "<video alt=\"test\" controls>\n",
       "                <source src=\"data:video/mp4;base64,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\" type=\"video/mp4\" />\n",
       "             </video>"
      ],
      "text/plain": [
       "<IPython.core.display.HTML object>"
      ]
     },
     "execution_count": 20,
     "metadata": {},
     "output_type": "execute_result"
    }
   ],
   "source": [
    "HTML(display_videos('fc_test10.mp4'))"
   ]
  },
  {
   "cell_type": "markdown",
   "metadata": {},
   "source": [
    "#### Comparing the two algorithms\n",
    "\n",
    " |    Temperature    |   Final Test Score Best FC (Average over 12 epochs)|Final Test Score Best CNN (Average over 12 epochs)|\n",
    "| :------------ | :-------------: | -------------: | \n",
    "| ** 0.1   **     | 1.136    |     2.591   |\n",
    "| ** 0.3   **     |  3.818   |   8.182  |\n",
    "| ** 0.5   **      |    7.5  |  16.136 |\n",
    "| ** 0.7   **      |  10.909  |  29.364   |\n",
    "| ** 0.9   **     |   14.0   |   53.045 |\n",
    "\n",
    "The CNN architecture performs consistently better than the Fully Connected architecture, and ever more so as the temperature increases. \n",
    "\n",
    "When the temperature is low, the rat sometimes does not observe any positive reward: that is the problem of less exploration. "
   ]
  },
  {
   "cell_type": "markdown",
   "metadata": {},
   "source": [
    "***\n",
    "\n",
    "The algorithm tends to not explore the map which can be an issue. We propose two ideas in order to encourage exploration:\n",
    "1. Incorporating a decreasing $\\epsilon$-greedy exploration. You can use the method ```set_epsilon```\n",
    "2. Append via the environment a new state that describes if a cell has been visited or not\n",
    "\n",
    "***\n",
    "__Question 10__ Design a new ```train_explore``` function and environment class ```EnvironmentExploring``` to tackle the issue of exploration.\n",
    "\n"
   ]
  },
  {
   "cell_type": "code",
   "execution_count": 21,
   "metadata": {},
   "outputs": [],
   "source": [
    "def train_explore(agent,env,epoch,decay_parameter_epsilon=0.3,prefix=''):\n",
    "    #New training procedure that tries to improve the exploration of the algorithm\n",
    "    #decay_parameter_epsilon in order to use the decreasing $\\epsilon$-greedy exploration\n",
    "    \n",
    "    \n",
    "    # Number of won games\n",
    "    score = 0\n",
    "    loss = 0\n",
    "\n",
    "    for e in range(epoch):\n",
    "        # At each epoch, we restart to a fresh game and get the initial state\n",
    "        state = env.reset()\n",
    "        # This assumes that the games will terminate\n",
    "        game_over = False\n",
    "\n",
    "        win = 0\n",
    "        lose = 0\n",
    "        agent.set_epsilon(agent.epsilon*(1-decay_parameter_epsilon))\n",
    "        while not game_over:\n",
    "            # The agent performs an action\n",
    "            action = agent.act(state)\n",
    "\n",
    "            # Apply an action to the environment, get the next state, the reward\n",
    "            # and if the games end\n",
    "            prev_state = state\n",
    "            state, reward, game_over = env.act(action, train=True)\n",
    "\n",
    "            # Update the counters\n",
    "            if reward > 0:\n",
    "                win = win + reward\n",
    "            if reward < 0:\n",
    "                lose = lose -reward\n",
    "\n",
    "            # Apply the reinforcement strategy\n",
    "            loss = agent.reinforce(prev_state, state,  action, reward, game_over)\n",
    "\n",
    "        # Save as a mp4\n",
    "        if e % 10 == 0:\n",
    "            env.draw(prefix+str(e))\n",
    "\n",
    "        # Update stats\n",
    "        score += win-lose\n",
    "\n",
    "        print(\"Epoch {:03d}/{:03d} | Loss {:.4f} | Win/lose count {}/{} ({})\"\n",
    "              .format(e, epoch, loss, win, lose, win-lose))\n",
    "        agent.save(name_weights=prefix+'model.h5',name_model=prefix+'model.json')\n",
    "        \n",
    "class EnvironmentExploring(object):\n",
    "    def __init__(self, grid_size=10, max_time=500, temperature=0.1):\n",
    "        grid_size = grid_size+4\n",
    "        self.grid_size = grid_size\n",
    "        self.max_time = max_time\n",
    "        self.temperature = temperature\n",
    "\n",
    "        #board on which one plays\n",
    "        self.board = np.zeros((grid_size,grid_size))\n",
    "        self.position = np.zeros((grid_size,grid_size))\n",
    "        self.malus_position = np.zeros((grid_size,grid_size)) #define maluses when going to a previously visited position\n",
    "        # coordinate of the cat\n",
    "        self.x = 0\n",
    "        self.y = 1\n",
    "\n",
    "        # self time\n",
    "        self.t = 0\n",
    "\n",
    "        self.scale=16\n",
    "\n",
    "        self.to_draw = np.zeros((max_time+2, grid_size*self.scale, grid_size*self.scale, 3))\n",
    "\n",
    "\n",
    "    def draw(self,e):\n",
    "        skvideo.io.vwrite(str(e) + '.mp4', self.to_draw)\n",
    "\n",
    "    def get_frame(self,t):\n",
    "        b = np.zeros((self.grid_size,self.grid_size,3))+128\n",
    "        b[self.board>0,0] = 256\n",
    "        b[self.board < 0, 2] = 256\n",
    "        b[self.x,self.y,:]=256\n",
    "        b[-2:,:,:]=0\n",
    "        b[:,-2:,:]=0\n",
    "        b[:2,:,:]=0\n",
    "        b[:,:2,:]=0\n",
    "        \n",
    "        b =  cv2.resize(b, None, fx=self.scale, fy=self.scale, interpolation=cv2.INTER_NEAREST)\n",
    "\n",
    "        self.to_draw[t,:,:,:]=b\n",
    "\n",
    "\n",
    "    def act(self, action,train=False):\n",
    "        \"\"\"This function returns the new state, reward and decides if the\n",
    "        game ends.\"\"\"\n",
    "        #During the training phase going back to a position where the rat have already been before tends to decrease the \n",
    "        #total reward hence there is this train parameter that we have added (it tries to enforce the exploration)\n",
    "\n",
    "        self.get_frame(int(self.t))\n",
    "\n",
    "        self.position = np.zeros((self.grid_size, self.grid_size))\n",
    "\n",
    "        self.position[0:2,:]= -1\n",
    "        self.position[:,0:2] = -1\n",
    "        self.position[-2:, :] = -1\n",
    "        self.position[:, -2:] = -1\n",
    "\n",
    "        self.position[self.x, self.y] = 1\n",
    "        if action == 0:\n",
    "            if self.x == self.grid_size-3:\n",
    "                self.x = self.x-1\n",
    "            else:\n",
    "                self.x = self.x + 1\n",
    "        elif action == 1:\n",
    "            if self.x == 2:\n",
    "                self.x = self.x+1\n",
    "            else:\n",
    "                self.x = self.x-1\n",
    "        elif action == 2:\n",
    "            if self.y == self.grid_size - 3:\n",
    "                self.y = self.y - 1\n",
    "            else:\n",
    "                self.y = self.y + 1\n",
    "        elif action == 3:\n",
    "            if self.y == 2:\n",
    "                self.y = self.y + 1\n",
    "            else:\n",
    "                self.y = self.y - 1\n",
    "        else:\n",
    "            RuntimeError('Error: action not recognized')\n",
    "\n",
    "        self.t = self.t + 1     \n",
    "        \n",
    "        ## In Environment exploring:\n",
    "        # You will have to change n_state to 3 because you will use one more layer!\n",
    "        reward = 0\n",
    "        if train:\n",
    "            reward = -self.malus_position[self.x, self.y]\n",
    "        self.malus_position[self.x, self.y] = 0.1\n",
    "\n",
    "        reward = reward + self.board[self.x, self.y]\n",
    "        self.board[self.x, self.y] = 0\n",
    "        game_over = self.t > self.max_time\n",
    "        # 3 \"feature\" states instead of 2\n",
    "        state = np.concatenate((self.malus_position.reshape(self.grid_size, self.grid_size,1),\n",
    "                                        self.board.reshape(self.grid_size, self.grid_size,1),\n",
    "                                self.position.reshape(self.grid_size, self.grid_size,1)),axis=2)\n",
    "        state = state[self.x-2:self.x+3,self.y-2:self.y+3,:]\n",
    "\n",
    "        return state, reward, game_over\n",
    "\n",
    "    def reset(self):\n",
    "        \"\"\"This function resets the game and returns the initial state\"\"\"\n",
    "\n",
    "        self.x = np.random.randint(3, self.grid_size-3, size=1)[0]\n",
    "        self.y = np.random.randint(3, self.grid_size-3, size=1)[0]\n",
    "\n",
    "\n",
    "        bonus = 0.5*np.random.binomial(1,self.temperature,size=self.grid_size**2)\n",
    "        bonus = bonus.reshape(self.grid_size,self.grid_size)\n",
    "\n",
    "        malus = -1.0*np.random.binomial(1,self.temperature,size=self.grid_size**2)\n",
    "        malus = malus.reshape(self.grid_size, self.grid_size)\n",
    "\n",
    "        self.to_draw = np.zeros((self.max_time+2, self.grid_size*self.scale, self.grid_size*self.scale, 3))\n",
    "\n",
    "\n",
    "        malus[bonus>0]=0\n",
    "\n",
    "        self.board = bonus + malus\n",
    "\n",
    "        self.position = np.zeros((self.grid_size, self.grid_size))\n",
    "        self.position[0:2,:]= -1\n",
    "        self.position[:,0:2] = -1\n",
    "        self.position[-2:, :] = -1\n",
    "        self.position[:,-2:] = -1\n",
    "        self.board[self.x,self.y] = 0\n",
    "        self.t = 0\n",
    "\n",
    "        self.malus_position = np.zeros((self.grid_size, self.grid_size))\n",
    "        #At the begining the malus_position array must be setted to zero\n",
    "        state = np.concatenate((self.malus_position.reshape(self.grid_size, self.grid_size,1),\n",
    "                                        self.board.reshape(self.grid_size, self.grid_size,1),\n",
    "                                self.position.reshape(self.grid_size, self.grid_size,1)),axis=2)\n",
    "\n",
    "        state = state[self.x - 2:self.x + 3, self.y - 2:self.y + 3, :]\n",
    "        return state"
   ]
  },
  {
   "cell_type": "code",
   "execution_count": 22,
   "metadata": {},
   "outputs": [
    {
     "name": "stdout",
     "output_type": "stream",
     "text": [
      "Epoch 000/050 | Loss 0.0103 | Win/lose count 7.5/22.00000000000004 (-14.500000000000039)\n",
      "Epoch 001/050 | Loss 0.0143 | Win/lose count 6.0/22.10000000000001 (-16.10000000000001)\n",
      "Epoch 002/050 | Loss 0.0062 | Win/lose count 8.5/15.99999999999996 (-7.499999999999959)\n",
      "Epoch 003/050 | Loss 0.0027 | Win/lose count 5.0/20.00000000000002 (-15.000000000000021)\n",
      "Epoch 004/050 | Loss 0.0067 | Win/lose count 6.0/18.599999999999998 (-12.599999999999998)\n",
      "Epoch 005/050 | Loss 0.0037 | Win/lose count 2.0/19.300000000000008 (-17.300000000000008)\n",
      "Epoch 006/050 | Loss 0.0049 | Win/lose count 1.0/18.799999999999997 (-17.799999999999997)\n",
      "Epoch 007/050 | Loss 0.0028 | Win/lose count 5.5/19.600000000000012 (-14.100000000000012)\n",
      "Epoch 008/050 | Loss 0.0049 | Win/lose count 5.5/18.29999999999999 (-12.79999999999999)\n",
      "Epoch 009/050 | Loss 0.0052 | Win/lose count 1.5/19.200000000000003 (-17.700000000000003)\n",
      "Epoch 010/050 | Loss 0.0028 | Win/lose count 1.0/19.200000000000003 (-18.200000000000003)\n",
      "Epoch 011/050 | Loss 0.0048 | Win/lose count 16.0/15.099999999999962 (0.9000000000000377)\n",
      "Epoch 012/050 | Loss 0.0024 | Win/lose count 2.0/19.1 (-17.1)\n",
      "Epoch 013/050 | Loss 0.0068 | Win/lose count 13.5/16.399999999999963 (-2.899999999999963)\n",
      "Epoch 014/050 | Loss 0.0037 | Win/lose count 10.5/16.599999999999966 (-6.099999999999966)\n",
      "Epoch 015/050 | Loss 0.0066 | Win/lose count 7.5/16.99999999999997 (-9.499999999999972)\n",
      "Epoch 016/050 | Loss 0.0105 | Win/lose count 2.0/18.599999999999994 (-16.599999999999994)\n",
      "Epoch 017/050 | Loss 0.0031 | Win/lose count 5.0/17.399999999999977 (-12.399999999999977)\n",
      "Epoch 018/050 | Loss 0.0164 | Win/lose count 10.0/17.59999999999998 (-7.59999999999998)\n",
      "Epoch 019/050 | Loss 0.0039 | Win/lose count 21.5/14.599999999999975 (6.900000000000025)\n",
      "Epoch 020/050 | Loss 0.0134 | Win/lose count 23.0/10.599999999999978 (12.400000000000022)\n",
      "Epoch 021/050 | Loss 0.0070 | Win/lose count 13.5/14.399999999999965 (-0.8999999999999648)\n",
      "Epoch 022/050 | Loss 0.0044 | Win/lose count 17.5/13.999999999999966 (3.5000000000000338)\n",
      "Epoch 023/050 | Loss 0.0090 | Win/lose count 16.0/15.299999999999965 (0.7000000000000348)\n",
      "Epoch 024/050 | Loss 0.0042 | Win/lose count 2.5/19.400000000000006 (-16.900000000000006)\n",
      "Epoch 025/050 | Loss 0.0067 | Win/lose count 16.0/12.69999999999997 (3.300000000000029)\n",
      "Epoch 026/050 | Loss 0.0069 | Win/lose count 15.5/12.199999999999973 (3.3000000000000274)\n",
      "Epoch 027/050 | Loss 0.0335 | Win/lose count 28.0/10.899999999999977 (17.100000000000023)\n",
      "Epoch 028/050 | Loss 0.0058 | Win/lose count 16.5/14.799999999999967 (1.700000000000033)\n",
      "Epoch 029/050 | Loss 0.0064 | Win/lose count 11.5/16.19999999999996 (-4.69999999999996)\n",
      "Epoch 030/050 | Loss 0.0064 | Win/lose count 3.5/18.9 (-15.399999999999999)\n",
      "Epoch 031/050 | Loss 0.0089 | Win/lose count 13.0/16.399999999999963 (-3.399999999999963)\n",
      "Epoch 032/050 | Loss 0.0037 | Win/lose count 25.0/8.399999999999986 (16.600000000000016)\n",
      "Epoch 033/050 | Loss 0.0033 | Win/lose count 24.0/10.199999999999982 (13.800000000000018)\n",
      "Epoch 034/050 | Loss 0.0237 | Win/lose count 27.5/11.499999999999975 (16.000000000000025)\n",
      "Epoch 035/050 | Loss 0.0267 | Win/lose count 11.5/13.999999999999966 (-2.4999999999999662)\n",
      "Epoch 036/050 | Loss 0.0040 | Win/lose count 27.5/8.499999999999986 (19.000000000000014)\n",
      "Epoch 037/050 | Loss 0.0073 | Win/lose count 21.0/8.999999999999988 (12.000000000000012)\n",
      "Epoch 038/050 | Loss 0.0084 | Win/lose count 23.5/15.099999999999968 (8.400000000000032)\n",
      "Epoch 039/050 | Loss 0.0062 | Win/lose count 11.0/15.499999999999968 (-4.499999999999968)\n",
      "Epoch 040/050 | Loss 0.0205 | Win/lose count 23.5/12.199999999999983 (11.300000000000017)\n",
      "Epoch 041/050 | Loss 0.0071 | Win/lose count 18.5/12.69999999999997 (5.800000000000029)\n",
      "Epoch 042/050 | Loss 0.0252 | Win/lose count 20.0/13.89999999999997 (6.10000000000003)\n",
      "Epoch 043/050 | Loss 0.0124 | Win/lose count 26.5/12.499999999999979 (14.000000000000021)\n",
      "Epoch 044/050 | Loss 0.0115 | Win/lose count 23.0/10.29999999999998 (12.70000000000002)\n",
      "Epoch 045/050 | Loss 0.0116 | Win/lose count 20.0/11.499999999999975 (8.500000000000025)\n",
      "Epoch 046/050 | Loss 0.0156 | Win/lose count 25.0/12.599999999999978 (12.400000000000022)\n",
      "Epoch 047/050 | Loss 0.0148 | Win/lose count 24.0/12.79999999999998 (11.20000000000002)\n",
      "Epoch 048/050 | Loss 0.0146 | Win/lose count 19.0/13.499999999999968 (5.500000000000032)\n",
      "Epoch 049/050 | Loss 0.0110 | Win/lose count 19.0/15.099999999999975 (3.9000000000000252)\n"
     ]
    },
    {
     "data": {
      "text/html": [
       "<video alt=\"test\" controls>\n",
       "                <source src=\"data:video/mp4;base64,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\" type=\"video/mp4\" />\n",
       "             </video>"
      ],
      "text/plain": [
       "<IPython.core.display.HTML object>"
      ]
     },
     "execution_count": 22,
     "metadata": {},
     "output_type": "execute_result"
    }
   ],
   "source": [
    "# Training\n",
    "env = EnvironmentExploring(grid_size=size, max_time=T, temperature=0.3)\n",
    "agent = DQN_CNN(size, lr=.1, epsilon = 0.1, memory_size=2000, batch_size = 32,n_state=3)\n",
    "train_explore(agent, env, epochs_train, prefix='cnn_train_explore')\n",
    "HTML(display_videos('cnn_train_explore10.mp4'))"
   ]
  },
  {
   "cell_type": "code",
   "execution_count": 23,
   "metadata": {},
   "outputs": [
    {
     "name": "stdout",
     "output_type": "stream",
     "text": [
      "Win/lose count 25.0/5.0. Average score (20.0)\n",
      "Win/lose count 27.0/6.0. Average score (20.5)\n",
      "Win/lose count 23.0/3.0. Average score (20.333333333333332)\n",
      "Win/lose count 28.0/4.0. Average score (21.25)\n",
      "Win/lose count 13.0/2.0. Average score (19.2)\n",
      "Win/lose count 22.0/5.0. Average score (18.833333333333332)\n",
      "Win/lose count 20.0/1.0. Average score (18.857142857142858)\n",
      "Win/lose count 17.5/3.0. Average score (18.3125)\n",
      "Win/lose count 11.0/0. Average score (17.5)\n",
      "Win/lose count 21.0/2.0. Average score (17.65)\n",
      "Win/lose count 22.0/3.0. Average score (17.772727272727273)\n",
      "Final score: 17.772727272727273\n"
     ]
    },
    {
     "data": {
      "text/html": [
       "<video alt=\"test\" controls>\n",
       "                <source src=\"data:video/mp4;base64,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\" type=\"video/mp4\" />\n",
       "             </video>"
      ],
      "text/plain": [
       "<IPython.core.display.HTML object>"
      ]
     },
     "execution_count": 23,
     "metadata": {},
     "output_type": "execute_result"
    }
   ],
   "source": [
    "# Evaluation\n",
    "test(agent,env,epochs_test,prefix='cnn_test_explore')\n",
    "HTML(display_videos('cnn_test_explore10.mp4'))"
   ]
  },
  {
   "cell_type": "markdown",
   "metadata": {},
   "source": [
    "**Observations**: exploration has significantly improved the score on test phase, from a 9 max (without exploration) to 19 (with exploration set by temperature 0.3), over 11 epochs. "
   ]
  },
  {
   "cell_type": "markdown",
   "metadata": {},
   "source": [
    "***\n",
    "***\n",
    "__BONUS question__ Use the expert DQN from the previous question to generate some winning games. Train a model that mimicks its behavior. Compare the performances."
   ]
  },
  {
   "cell_type": "markdown",
   "metadata": {},
   "source": []
  },
  {
   "cell_type": "markdown",
   "metadata": {},
   "source": [
    "***"
   ]
  }
 ],
 "metadata": {
  "kernelspec": {
   "display_name": "Python 3",
   "language": "python",
   "name": "python3"
  },
  "language_info": {
   "codemirror_mode": {
    "name": "ipython",
    "version": 3
   },
   "file_extension": ".py",
   "mimetype": "text/x-python",
   "name": "python",
   "nbconvert_exporter": "python",
   "pygments_lexer": "ipython3",
   "version": "3.6.7"
  }
 },
 "nbformat": 4,
 "nbformat_minor": 2
}
